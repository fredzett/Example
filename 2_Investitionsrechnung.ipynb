{
 "cells": [
  {
   "cell_type": "markdown",
   "metadata": {},
   "source": [
    "# Investitionsrechnung mit Jupyter Notebooks"
   ]
  },
  {
   "cell_type": "markdown",
   "metadata": {},
   "source": [
    "Das Modul **Investition & Finanzierung** (I&F) ist ein typisches Pflichtmodul im Studium der Betriebswirtschaftlehre. Die derzeit vorherrschende Lehrform erfolgt via *Frontalunterricht* (ggf. ergänzt durch Excelbespiele) und *Tutorien* zur Übung und Vertiefung des Stoffes. \n",
    "\n",
    "Im Folgenden soll veranschaulicht werden, wie mit Hilfe von [**Jupyter Notebooks**](http://jupyter.org/) ein Modul \"I&F\" in der Lehre ergänzt werden kann. \n",
    "\n",
    "Jupyter Notebooks sind **WebApps** die lokal ausgeführt werden (d.h. diese laufen auf dem eigenen Computer und sind nicht notwendigerweise im Web öffentlich verfügbar) und sowohl **Textelemente**, als auch **Programm-Code** darstellen können. Zusätzlich können im Text Bilder, Links und Videos eingefügt werden \n",
    "(ein [Beispiel](https://nbviewer.jupyter.org/url/jakevdp.github.com/downloads/notebooks/XKCD_plots.ipynb)). In Summe sind Jupyter Notebooks somit insbesondere **interaktive Umgebungen**, die derzeit z.B. im Bereich *Research* und *Datenanalyse* genutzt werden. \n",
    "\n",
    "Ein solches Notebook eignet sich deshalb sehr gut, da \n",
    "- Formeln einfach dargestellt werden können\n",
    "- Formeln durch Ausführung von Programmcodes direkt ausgeführt werden können\n",
    "\n",
    "Studierende erhalten somit die Möglichkeit in einem Dokument geführt zu lernen und erlerntes direkt auszuprobieren. Ergänzt man ein solches Notebook mit zusätzlichen hilfreichen Links zu Themen (oder vorgelagerten Kapiteln), kann die Lehre mit Jupyter Notebooks im Bereich BWL somit zwei wichtige Funktionen erfüllen:\n",
    "\n",
    "- Ermöglichen von **Flipped Learning**\n",
    "- Intuitive Heranführung an das **Programmieren** (ohne notwendige Installationen von Software etc.)\n",
    "\n",
    "Viel Spaß beim Ausprobieren! \n",
    "\n",
    "**HINWEIS: Alle Zellen können mit \"Shift+ENTER\" ausgeführt werden**"
   ]
  },
  {
   "cell_type": "markdown",
   "metadata": {},
   "source": [
    "## A | Annuitätenrechnung"
   ]
  },
  {
   "cell_type": "markdown",
   "metadata": {},
   "source": [
    "### Was ist eine Annuität?\n",
    "\n",
    "\"In den Wirtschaftswissenschaften bzw. der Finanzmathematik bezeichnet man als Annuität (lat. annus = Jahr) eine regelmäßig jährlich fließende Zahlung, die sich aus den Elementen Zins und Tilgung zusammensetzt. Man unterscheidet die konstante und die variable Annuität. Während der Laufzeit eines Annuitätendarlehens verändert sich mit fortschreitender Tilgung der Darlehensvaluta das Verhältnis von Zinsanteil zu Tilgungsanteil der hier konstanten Annuität, weshalb man bei Annuitätendarlehen auch von „anfänglicher Tilgung“ spricht. Bei einem Annuitätendarlehen wird daher die (zunehmende) Tilgungs- und die (abnehmende) Zinszahlung so errechnet, dass die regelmäßige Gesamtbelastung gleich bleibt, d. h. annuitätisch ist. Bei einem Abzahlungsdarlehen bleibt dagegen der Tilgungsbetrag bei jeder Zahlung unverändert, so dass die in diesem Fall variable Annuität durch die geringer werdende Zinslast sinkt.\n",
    "\n",
    "In der Investitionsrechnung wird mit der Annuitätenmethode der Kapitalwert einer Investition auf die Projektdauer verteilt. Dadurch wird der Tatsache Rechnung getragen, dass ein innerhalb kürzerer Dauer erwirtschafteter Kapitalwert im Vergleich höher zu werten ist, da diese Investition möglicherweise wiederholt werden kann (Investitionskette).\"  \n",
    "\n",
    "**Quelle: https://de.wikipedia.org/wiki/Annuit%C3%A4t_(Investitionsrechnung)**\n",
    "\n"
   ]
  },
  {
   "cell_type": "markdown",
   "metadata": {},
   "source": [
    "### Der Barwert einer Annuität\n",
    "\n",
    "Auf einem Zeitstrahl kann man die Annuität wunderbar abbilden, um so eine gewisse Intuition zu entwickeln.\n",
    "\n",
    "\n",
    "<center>![Test](./Assets/Timeline_A.png)</center>\n",
    "\n",
    "Aus dem Kapitel [\"Der Kapitalbarwert\" (Kapitel 1)](NPV.ipynb) wissen wir bereits, wie die im Zeistrahl angegebenen Cashflows bewertet werden müssen. Diskontiert man die angegebenen, jährlichen Zahlungen $C$ mit einem Zinssatz $i$, so erhält man den **Barwert der Annuität**.\n",
    "\n",
    "$$ PV_{Annuität} = \\sum_{n=1}^{N} \\frac{C}{(1+i)^n} \\tag{A.1}$$\n",
    "\n",
    "Zur Berechnung einer N-periodigen Annuität müssen demnach N Cashflows diskontiert und addiert werden. "
   ]
  },
  {
   "cell_type": "markdown",
   "metadata": {},
   "source": [
    "**Beispiel: (naive) Berechnung in Python**  \n",
    "(Hinweis: Annahmen können verändert werden. Code-Block wird mit \"Shift+ENTER\" ausgeführt)"
   ]
  },
  {
   "cell_type": "code",
   "execution_count": 25,
   "metadata": {},
   "outputs": [
    {
     "data": {
      "text/plain": [
       "255.90608510327485"
      ]
     },
     "execution_count": 25,
     "metadata": {},
     "output_type": "execute_result"
    }
   ],
   "source": [
    "# Hinweis: die Notation for \"hoch X\" ist nicht wie z.B. in Excel \"^X\", sondern \"**X\".\n",
    "\n",
    "C = 30\n",
    "i = 0.03\n",
    "N = 10\n",
    "\n",
    "C/(1.03)**1 + C/(1.03)**2 + C/(1.03)**3 + C/1.03**4 + C/1.03**5 + C/1.03**6 + C/1.03**7 + C/1.03**8 + C/1.03**9 + C/1.03**10"
   ]
  },
  {
   "cell_type": "markdown",
   "metadata": {},
   "source": [
    "### Die Abkürzung: Formel zu Berechnung einer Annuität\n",
    "\n",
    "Glücklicherweise gibt es eine Art Abkürzung zur Berechnung des Barwertes einer Annuität. Diese Formel kann immer dann genutzt werden, wenn wir mit einem konstanten Zinssatz $i$ rechnen.\n",
    "\n",
    "$$PV = \\frac{C}{i} \\times \\bigg(1-\\frac{1}{(1+i)^N} \\bigg) \\tag{A.2}$$"
   ]
  },
  {
   "cell_type": "markdown",
   "metadata": {},
   "source": [
    "> **Intuition für Abkürzungsformel**\n",
    "> Stellen wir würden ein Wertpapier erfinden wollen, welches uns für 10 Jahre jährlich einen konstanten Betrag auszahlt. Dieses Wertpapier könnten wir z.B. wiefolgt erzeugen  \n",
    "(Annahme: risikofreier Zins konstant bei 3%):  \n",
    "> 1. wir zahlen 1.000 EUR auf unser Bankkonto ein\n",
    "> 2. nach dem ersten Jahr liegen auf unserem Bankkonto 1.030 EUR (1.000 x 1.03). Wir entnehmen die 30 EUR und belassen die 1.000 EUR auf dem Konto\n",
    "> 3. nach dem zweiten Jahr liegen auf unserem Bankkonto 1.030 EUR (1.000 x 1.03). Wir entnehmen wieder die 30 EUR und belassen die 1.000 EUR auf dem Konto\n",
    "> 4. wir gehen die nächsten 8 Jahre analog vor\n",
    "> 5. nach 10 Jahren heben wir die 1.000 EUR wieder von unserem Konto ab\n",
    "> \n",
    "> Intuitiv wird klar, dass die **heutigen 1.000 EUR** der Summe aus (i) dem **Barwert der 30 EUR Abhebungen** und (ii) dem **Barwert der in 10 Jahren abzuhebenden 1.000 EUR** sind. \n",
    ">\n",
    "> Es gilt also: $\\text{1.000 EUR} = PV(\\text{von 10 jährlichen Zahlungen von 30 EUR}) + PV(\\text{der 1.000 EUR in 10 Jahren}) $\n",
    ">\n",
    "> Allgemeiner kann man also sagen:  \n",
    "seien $P$ der ursprüngliche Anlagebetrag, $N$ der Anlagezeitraum, $C$ die jährlichen Zahlungen und $i$ der Zins: $ P = PV(\\text{C,i}) + PV(\\text{P,i})$\n",
    ">\n",
    ">$$ \n",
    "\\begin{equation}\n",
    "\\begin{split}\n",
    "PV(\\text{C,i}) & = P - PV(\\text{P,i}) \\\\ \n",
    "& = P - \\frac{P}{(1+i)^N} \\\\ \n",
    "& = P \\times \\bigg(1 - \\frac{1}{(1+i)^N} \\bigg) \\\\ \n",
    "& = \\frac{C}{i} \\times \\bigg(1 - \\frac{1}{(1+i)^N} \\bigg)\n",
    "\\end{split}\n",
    "\\end{equation}\n",
    "$$\n",
    "> \n",
    "> Hinweis: $P = \\frac{C}{i}$ wurde bereits in [Kapitel 2 - ewige Rente](NPV.ipynb) hergeleitet.\n",
    "\n",
    "**Beispiel: Berechnung in Python**\n"
   ]
  },
  {
   "cell_type": "code",
   "execution_count": 21,
   "metadata": {},
   "outputs": [
    {
     "data": {
      "text/plain": [
       "255.90608510327507"
      ]
     },
     "execution_count": 21,
     "metadata": {},
     "output_type": "execute_result"
    }
   ],
   "source": [
    "C/i * (1- 1/(1+i)**N)"
   ]
  },
  {
   "cell_type": "markdown",
   "metadata": {},
   "source": [
    "### Anwendungsfall: Annuität\n",
    "\n",
    "Ein typischer Anwendungsfall für die Annuitätenrechnung ist ein Annuitätendarlehen. Möchte man z.B. einen Immobilienkredit für den Kauf eines Hauses bei einer Bank aufnehmen, so wird einem typischerweise ein Annuitätendarlehen gewährt."
   ]
  },
  {
   "cell_type": "markdown",
   "metadata": {},
   "source": [
    "### Optional: weiterführende Berechnung mit Python"
   ]
  },
  {
   "cell_type": "markdown",
   "metadata": {},
   "source": [
    "**Berechnung in Python als Funktion**  \n",
    "Die hergeleitete Annuitätenformel kann in Python dann als Funktion definiert werden. "
   ]
  },
  {
   "cell_type": "code",
   "execution_count": 26,
   "metadata": {},
   "outputs": [],
   "source": [
    "# Definition der Funktion \"Berechne Barwert einer Annuität\"\n",
    "def pv_annuität(C,i,N):\n",
    "    return C/i * (1- 1/(1+i)**N)"
   ]
  },
  {
   "cell_type": "code",
   "execution_count": 29,
   "metadata": {},
   "outputs": [
    {
     "data": {
      "text/plain": [
       "255.90608510327507"
      ]
     },
     "execution_count": 29,
     "metadata": {},
     "output_type": "execute_result"
    }
   ],
   "source": [
    "C = 30\n",
    "i = 0.03\n",
    "N = 10\n",
    "pv_annuität(C,i,N)"
   ]
  },
  {
   "cell_type": "code",
   "execution_count": 30,
   "metadata": {},
   "outputs": [
    {
     "data": {
      "text/plain": [
       "18633.47196207137"
      ]
     },
     "execution_count": 30,
     "metadata": {},
     "output_type": "execute_result"
    }
   ],
   "source": [
    "C = 1000\n",
    "i = 0.05\n",
    "N = 55\n",
    "pv_annuität(C,i,N)"
   ]
  },
  {
   "cell_type": "markdown",
   "metadata": {},
   "source": [
    "** Formel A.1 kann auch einfacher dargestellt werden**\n",
    "\n",
    "**Variante A:** via For-Schleife"
   ]
  },
  {
   "cell_type": "code",
   "execution_count": 36,
   "metadata": {},
   "outputs": [
    {
     "data": {
      "text/plain": [
       "255.90608510327485"
      ]
     },
     "execution_count": 36,
     "metadata": {},
     "output_type": "execute_result"
    }
   ],
   "source": [
    "C = 30\n",
    "i = 0.03\n",
    "jahre = range(1,11) #Hinweis: erstellt eine Liste mit den Zahlen 1 bis 10\n",
    "pv = 0\n",
    "for jahr in jahre:\n",
    "    pv += C/(1+i)**jahr\n",
    "pv"
   ]
  },
  {
   "cell_type": "markdown",
   "metadata": {},
   "source": [
    "**Variante B:** via Vektorisierung  \n",
    "Hinweis: hier muss zunächst eine Bibliothek importiert werden, die für Vektor und Matrixberechnungen genutzt werden kann"
   ]
  },
  {
   "cell_type": "code",
   "execution_count": 35,
   "metadata": {},
   "outputs": [],
   "source": [
    "import numpy as np #Importieren der Bibliothek"
   ]
  },
  {
   "cell_type": "code",
   "execution_count": 53,
   "metadata": {},
   "outputs": [
    {
     "data": {
      "text/plain": [
       "255.90608510327485"
      ]
     },
     "execution_count": 53,
     "metadata": {},
     "output_type": "execute_result"
    }
   ],
   "source": [
    "C = np.repeat(30,10)\n",
    "i = 0.03\n",
    "jahre = np.arange(1,11) \n",
    "df = (1/(1+i)**jahre)\n",
    "C.dot(df)"
   ]
  },
  {
   "cell_type": "markdown",
   "metadata": {},
   "source": [
    "**Variante C:** via eigenem Modul"
   ]
  },
  {
   "cell_type": "code",
   "execution_count": 60,
   "metadata": {},
   "outputs": [
    {
     "data": {
      "text/plain": [
       "\u001b[1;31mSignature:\u001b[0m \u001b[0mpv_annuität\u001b[0m\u001b[1;33m(\u001b[0m\u001b[0mC\u001b[0m\u001b[1;33m,\u001b[0m \u001b[0mi\u001b[0m\u001b[1;33m,\u001b[0m \u001b[0mN\u001b[0m\u001b[1;33m)\u001b[0m\u001b[1;33m\u001b[0m\u001b[0m\n",
       "\u001b[1;31mSource:\u001b[0m   \n",
       "\u001b[1;32mdef\u001b[0m \u001b[0mpv_annuität\u001b[0m\u001b[1;33m(\u001b[0m\u001b[0mC\u001b[0m\u001b[1;33m,\u001b[0m\u001b[0mi\u001b[0m\u001b[1;33m,\u001b[0m\u001b[0mN\u001b[0m\u001b[1;33m)\u001b[0m\u001b[1;33m:\u001b[0m\u001b[1;33m\n",
       "\u001b[0m    \u001b[1;34m'''\n",
       "    Funktion zur Berechnung des Barwertes einer Annuität.\n",
       "    \n",
       "    Benötigter Input:\n",
       "    \n",
       "    C = jährliche Zahlungen\n",
       "    \n",
       "    i = Zinssatz\n",
       "    \n",
       "    N = Anzahl an Zahlungen\n",
       "    \n",
       "    Output:\n",
       "    \n",
       "    Barwert der Annuität berechnet nach:\n",
       "    \n",
       "    PV = C/i * (1 - 1/(1+i)**N)\n",
       "    \n",
       "    '''\u001b[0m\u001b[1;33m\n",
       "\u001b[0m    \u001b[1;32mreturn\u001b[0m \u001b[0mC\u001b[0m\u001b[1;33m/\u001b[0m\u001b[0mi\u001b[0m \u001b[1;33m*\u001b[0m \u001b[1;33m(\u001b[0m\u001b[1;36m1\u001b[0m \u001b[1;33m-\u001b[0m \u001b[1;36m1\u001b[0m\u001b[1;33m/\u001b[0m\u001b[1;33m(\u001b[0m\u001b[1;36m1\u001b[0m\u001b[1;33m+\u001b[0m\u001b[0mi\u001b[0m\u001b[1;33m)\u001b[0m\u001b[1;33m**\u001b[0m\u001b[0mN\u001b[0m\u001b[1;33m)\u001b[0m\u001b[1;33m\u001b[0m\u001b[0m\n",
       "\u001b[1;31mFile:\u001b[0m      d:\\benutzer\\fzeidler\\dropbox\\02_fh\\02 schreiben\\konzept - datenkompetenz bwler\\example - lecture\\vorlesung_if.py\n",
       "\u001b[1;31mType:\u001b[0m      function\n"
      ]
     },
     "metadata": {},
     "output_type": "display_data"
    }
   ],
   "source": [
    "from Vorlesung_IF import pv_annuität\n",
    "\n",
    "pv_annuität??"
   ]
  },
  {
   "cell_type": "code",
   "execution_count": 61,
   "metadata": {},
   "outputs": [
    {
     "data": {
      "text/plain": [
       "255.90608510327507"
      ]
     },
     "execution_count": 61,
     "metadata": {},
     "output_type": "execute_result"
    }
   ],
   "source": [
    "C = 30\n",
    "i = 0.03\n",
    "N = 10\n",
    "pv_annuität(C,i,N)"
   ]
  }
 ],
 "metadata": {
  "kernelspec": {
   "display_name": "Python 3",
   "language": "python",
   "name": "python3"
  },
  "language_info": {
   "codemirror_mode": {
    "name": "ipython",
    "version": 3
   },
   "file_extension": ".py",
   "mimetype": "text/x-python",
   "name": "python",
   "nbconvert_exporter": "python",
   "pygments_lexer": "ipython3",
   "version": "3.6.4"
  }
 },
 "nbformat": 4,
 "nbformat_minor": 2
}
