{
 "cells": [
  {
   "cell_type": "markdown",
   "metadata": {},
   "source": [
    "# Einführung - Jupyter Notebooks"
   ]
  },
  {
   "cell_type": "markdown",
   "metadata": {},
   "source": [
    "Das ideale Tools zur Datenanalyse "
   ]
  },
  {
   "cell_type": "markdown",
   "metadata": {},
   "source": [
    "## Einleitung"
   ]
  },
  {
   "cell_type": "markdown",
   "metadata": {},
   "source": [
    "In Jupyter Notebooks können sowohl **Programmcodes** (zumeist Python), also auch **Textelemente** (Markdown-Format) dargestellt und ausgeführt werden. D.h. der Anwender kann \n",
    "\n",
    "1. Programme oder Programmteile ausführen, um Analysen durchzuführen und\n",
    "2. Ergebnisse, Beschreibungen und Graphiken zu den ausgeführten Analysen hinzufügen\n",
    "\n",
    "Jupyter Notebooks kombinieren damit zwei Welten (Programmierung und Textverarbeitung), die besonders für Datananalyseprojekte hilfreich sind. Insofern ist es nicht verwunderlich, dass sich Jupyter Notebooks seit einigen Jahren zur Standardentwicklungsumgebung für Wissenschaftler und Data Scientist entwickelt haben. \n",
    "\n",
    "Insbesondere der **interaktive bzw. iterative** Charakter von Jupyter Notebook hat dazu geführt, dass gerade explorative Analysen, die **nicht linear** \"runterprogrammiert\" werden können (Stichwort: \"trial and error\") mit Jupyter Notebooks durchgeführt werden.\n",
    "\n",
    "Jupyter Notebooks sind \"open source\" und können [hier](http://jupyter.org/) bzw. idealerweise direkt zusammen mit einem Packetmanager [hier](https://www.anaconda.com/download/) (Erläuterung siehe unten) heruntergeladen werden. \n",
    "\n",
    "Das hier vorliegende Dokument ist ein solches Notebook. In den folgenden Zeilen soll anhand einiger sehr einfacher Beispiele erläutert werden, warum Jupyter Notebooks so vorteilhaft sind."
   ]
  },
  {
   "cell_type": "markdown",
   "metadata": {},
   "source": [
    "## Funktionsweise von Jupyter Notebooks"
   ]
  },
  {
   "cell_type": "markdown",
   "metadata": {},
   "source": [
    "Jede Zeile eines Jupyter Note kann separat ausgeführt werden, in dem man Shift + Enter drückt. \n",
    "\n",
    "Einfach ausprobieren!!"
   ]
  },
  {
   "cell_type": "code",
   "execution_count": 1,
   "metadata": {},
   "outputs": [
    {
     "data": {
      "text/plain": [
       "6"
      ]
     },
     "execution_count": 1,
     "metadata": {},
     "output_type": "execute_result"
    }
   ],
   "source": [
    "3 + 3"
   ]
  },
  {
   "cell_type": "code",
   "execution_count": 2,
   "metadata": {},
   "outputs": [
    {
     "data": {
      "text/plain": [
       "['ich', 'bin', 'eine', 'Liste']"
      ]
     },
     "execution_count": 2,
     "metadata": {},
     "output_type": "execute_result"
    }
   ],
   "source": [
    "liste = [\"ich\",\"bin\",\"eine\",\"Liste\"]\n",
    "liste"
   ]
  },
  {
   "cell_type": "markdown",
   "metadata": {},
   "source": [
    "Wie in \"normalen\" Programmen können so aber komplexere Programmteile ausgeführt werden (z.B. Funktionen oder Klassen)"
   ]
  },
  {
   "cell_type": "code",
   "execution_count": 3,
   "metadata": {
    "collapsed": true
   },
   "outputs": [],
   "source": [
    "def plus_zwei(x):\n",
    "    return x + 2"
   ]
  },
  {
   "cell_type": "code",
   "execution_count": 4,
   "metadata": {},
   "outputs": [
    {
     "data": {
      "text/plain": [
       "12"
      ]
     },
     "execution_count": 4,
     "metadata": {},
     "output_type": "execute_result"
    }
   ],
   "source": [
    "x = 10\n",
    "y = plus_zwei(x)\n",
    "y"
   ]
  },
  {
   "cell_type": "markdown",
   "metadata": {},
   "source": [
    "Variablen, Funkionen etc., die in Zeilen genutzt werden, können in anderen Zeilen wieder aufgegriffen werden"
   ]
  },
  {
   "cell_type": "code",
   "execution_count": 5,
   "metadata": {},
   "outputs": [
    {
     "data": {
      "text/plain": [
       "14"
      ]
     },
     "execution_count": 5,
     "metadata": {},
     "output_type": "execute_result"
    }
   ],
   "source": [
    "z = plus_zwei(y)\n",
    "z"
   ]
  },
  {
   "cell_type": "markdown",
   "metadata": {},
   "source": [
    "Jupyter Notebooks und Python bieten auch objektorientierte Programmierung an"
   ]
  },
  {
   "cell_type": "code",
   "execution_count": 6,
   "metadata": {
    "collapsed": true
   },
   "outputs": [],
   "source": [
    "class Person(object):\n",
    "    def __init__(self,name,alter, beschreibung):\n",
    "        self.name = name\n",
    "        self.alter = alter\n",
    "        self.beschreibung = beschreibung"
   ]
  },
  {
   "cell_type": "code",
   "execution_count": 7,
   "metadata": {
    "collapsed": true
   },
   "outputs": [],
   "source": [
    "EinePerson = Person(\"Felix\",36,\"Ich bin eine Instanz der Klasse 'Person'\")"
   ]
  },
  {
   "cell_type": "code",
   "execution_count": 8,
   "metadata": {},
   "outputs": [
    {
     "name": "stdout",
     "output_type": "stream",
     "text": [
      "Infos zu Felix:\n",
      "- Alter: 36\n",
      "- Beschreibung: Ich bin eine Instanz der Klasse 'Person'\n",
      "\n"
     ]
    }
   ],
   "source": [
    "text = \"\"\"Infos zu %s:\n",
    "- Alter: %r\n",
    "- Beschreibung: %s\n",
    "\"\"\"%(EinePerson.name, EinePerson.alter, EinePerson.beschreibung)\n",
    "print(text)"
   ]
  },
  {
   "cell_type": "markdown",
   "metadata": {},
   "source": [
    "Fazit: in Jupyter Notebooks kann herkömmlich programmiert werden. Die Kombination aus interaktiver Entwicklungsumgebung und Python - einer sehr mächtigen und dennoch grundsätzlich intuitiven Programmiersprache - ermöglicht es insbesondere Anwendern mit wenig oder keinen Programmierkenntnissen schnell Lernerfolge zu erzielen"
   ]
  },
  {
   "cell_type": "markdown",
   "metadata": {},
   "source": [
    "## Einführung: Bibliotheken (Packages) von Python"
   ]
  },
  {
   "cell_type": "markdown",
   "metadata": {},
   "source": [
    "Eine der größten Stärken der Programmmiersprache Python ist, dass es bereits eine Vielzahl (hunderte) von Bibliotheken gibt, mit denen eine Vielzahl an Programmierbereichen bereits abgedeckt wird. Ein paar Beispiele:\n",
    "- Numpy: Bibliothek mit Matrix und Vektoroperationen\n",
    "- Pandas: Bibliothek für Datenanalysen\n",
    "- Matplotlib: Bibliothek zur Darstellung von Graphiken\n",
    "- Scikit Learn: Bibliothek für Machine Learning\n",
    "- Keras: Bibliothek für Deep Learning (von Google)\n",
    "\n",
    "Sowohl Python als auch die Bibliotheken sind \"open source\" und können über den [Anaconda Packagemanager](https://www.anaconda.com/download/) heruntergeladen und eingebunden werden."
   ]
  },
  {
   "cell_type": "markdown",
   "metadata": {},
   "source": [
    "Einbinden einer Bibliothek erfolgt via \"import\""
   ]
  },
  {
   "cell_type": "code",
   "execution_count": 9,
   "metadata": {
    "collapsed": true
   },
   "outputs": [],
   "source": [
    "import numpy as np"
   ]
  },
  {
   "cell_type": "code",
   "execution_count": 10,
   "metadata": {},
   "outputs": [
    {
     "data": {
      "text/plain": [
       "array([[ 0.09828811],\n",
       "       [ 0.35395412],\n",
       "       [ 0.79266156],\n",
       "       ..., \n",
       "       [ 0.99462189],\n",
       "       [ 0.96445317],\n",
       "       [ 0.65930723]])"
      ]
     },
     "execution_count": 10,
     "metadata": {},
     "output_type": "execute_result"
    }
   ],
   "source": [
    "X = np.random.random(size=(10000,1))\n",
    "X"
   ]
  },
  {
   "cell_type": "code",
   "execution_count": 11,
   "metadata": {},
   "outputs": [
    {
     "data": {
      "text/plain": [
       "(10000, 1)"
      ]
     },
     "execution_count": 11,
     "metadata": {},
     "output_type": "execute_result"
    }
   ],
   "source": [
    "X.shape"
   ]
  },
  {
   "cell_type": "code",
   "execution_count": 12,
   "metadata": {
    "collapsed": true
   },
   "outputs": [],
   "source": [
    "import matplotlib.pyplot as plt\n",
    "%matplotlib inline\n",
    "plt.style.use(\"ggplot\")"
   ]
  },
  {
   "cell_type": "code",
   "execution_count": 13,
   "metadata": {
    "collapsed": true
   },
   "outputs": [],
   "source": [
    "x = [1,2,3,4,5]\n",
    "y = np.random.random(5)"
   ]
  },
  {
   "cell_type": "code",
   "execution_count": 14,
   "metadata": {},
   "outputs": [
    {
     "data": {
      "image/png": "[encoded data removed]",
      "text/plain": [
       "<matplotlib.figure.Figure at 0x1d377c15860>"
      ]
     },
     "metadata": {},
     "output_type": "display_data"
    }
   ],
   "source": [
    "plt.plot(x,y)\n",
    "plt.title(\"Dies ist ein Graph\")\n",
    "plt.xlabel(\"X\")\n",
    "plt.ylabel(\"Y\");"
   ]
  },
  {
   "cell_type": "code",
   "execution_count": 15,
   "metadata": {
    "collapsed": true
   },
   "outputs": [],
   "source": [
    "import pandas as pd"
   ]
  },
  {
   "cell_type": "code",
   "execution_count": 16,
   "metadata": {},
   "outputs": [
    {
     "data": {
      "text/html": [
       "<div>\n",
       "<style scoped>\n",
       "    .dataframe tbody tr th:only-of-type {\n",
       "        vertical-align: middle;\n",
       "    }\n",
       "\n",
       "    .dataframe tbody tr th {\n",
       "        vertical-align: top;\n",
       "    }\n",
       "\n",
       "    .dataframe thead th {\n",
       "        text-align: right;\n",
       "    }\n",
       "</style>\n",
       "<table border=\"1\" class=\"dataframe\">\n",
       "  <thead>\n",
       "    <tr style=\"text-align: right;\">\n",
       "      <th></th>\n",
       "      <th>a</th>\n",
       "      <th>b</th>\n",
       "      <th>c</th>\n",
       "      <th>d</th>\n",
       "      <th>e</th>\n",
       "      <th>f</th>\n",
       "      <th>g</th>\n",
       "      <th>h</th>\n",
       "      <th>i</th>\n",
       "      <th>j</th>\n",
       "    </tr>\n",
       "  </thead>\n",
       "  <tbody>\n",
       "    <tr>\n",
       "      <th>0</th>\n",
       "      <td>7</td>\n",
       "      <td>4</td>\n",
       "      <td>3</td>\n",
       "      <td>7</td>\n",
       "      <td>4</td>\n",
       "      <td>5</td>\n",
       "      <td>3</td>\n",
       "      <td>10</td>\n",
       "      <td>7</td>\n",
       "      <td>2</td>\n",
       "    </tr>\n",
       "    <tr>\n",
       "      <th>1</th>\n",
       "      <td>10</td>\n",
       "      <td>9</td>\n",
       "      <td>2</td>\n",
       "      <td>8</td>\n",
       "      <td>10</td>\n",
       "      <td>9</td>\n",
       "      <td>9</td>\n",
       "      <td>10</td>\n",
       "      <td>2</td>\n",
       "      <td>3</td>\n",
       "    </tr>\n",
       "    <tr>\n",
       "      <th>2</th>\n",
       "      <td>8</td>\n",
       "      <td>1</td>\n",
       "      <td>7</td>\n",
       "      <td>4</td>\n",
       "      <td>6</td>\n",
       "      <td>2</td>\n",
       "      <td>4</td>\n",
       "      <td>3</td>\n",
       "      <td>2</td>\n",
       "      <td>1</td>\n",
       "    </tr>\n",
       "    <tr>\n",
       "      <th>3</th>\n",
       "      <td>10</td>\n",
       "      <td>6</td>\n",
       "      <td>6</td>\n",
       "      <td>3</td>\n",
       "      <td>3</td>\n",
       "      <td>3</td>\n",
       "      <td>10</td>\n",
       "      <td>5</td>\n",
       "      <td>1</td>\n",
       "      <td>6</td>\n",
       "    </tr>\n",
       "    <tr>\n",
       "      <th>4</th>\n",
       "      <td>10</td>\n",
       "      <td>7</td>\n",
       "      <td>5</td>\n",
       "      <td>9</td>\n",
       "      <td>8</td>\n",
       "      <td>3</td>\n",
       "      <td>5</td>\n",
       "      <td>8</td>\n",
       "      <td>4</td>\n",
       "      <td>5</td>\n",
       "    </tr>\n",
       "    <tr>\n",
       "      <th>5</th>\n",
       "      <td>7</td>\n",
       "      <td>10</td>\n",
       "      <td>10</td>\n",
       "      <td>5</td>\n",
       "      <td>1</td>\n",
       "      <td>7</td>\n",
       "      <td>6</td>\n",
       "      <td>2</td>\n",
       "      <td>10</td>\n",
       "      <td>7</td>\n",
       "    </tr>\n",
       "    <tr>\n",
       "      <th>6</th>\n",
       "      <td>10</td>\n",
       "      <td>5</td>\n",
       "      <td>7</td>\n",
       "      <td>2</td>\n",
       "      <td>4</td>\n",
       "      <td>4</td>\n",
       "      <td>7</td>\n",
       "      <td>4</td>\n",
       "      <td>5</td>\n",
       "      <td>9</td>\n",
       "    </tr>\n",
       "    <tr>\n",
       "      <th>7</th>\n",
       "      <td>5</td>\n",
       "      <td>6</td>\n",
       "      <td>2</td>\n",
       "      <td>3</td>\n",
       "      <td>6</td>\n",
       "      <td>8</td>\n",
       "      <td>5</td>\n",
       "      <td>10</td>\n",
       "      <td>6</td>\n",
       "      <td>8</td>\n",
       "    </tr>\n",
       "    <tr>\n",
       "      <th>8</th>\n",
       "      <td>4</td>\n",
       "      <td>2</td>\n",
       "      <td>7</td>\n",
       "      <td>2</td>\n",
       "      <td>4</td>\n",
       "      <td>4</td>\n",
       "      <td>8</td>\n",
       "      <td>5</td>\n",
       "      <td>7</td>\n",
       "      <td>2</td>\n",
       "    </tr>\n",
       "    <tr>\n",
       "      <th>9</th>\n",
       "      <td>8</td>\n",
       "      <td>5</td>\n",
       "      <td>3</td>\n",
       "      <td>10</td>\n",
       "      <td>7</td>\n",
       "      <td>10</td>\n",
       "      <td>8</td>\n",
       "      <td>3</td>\n",
       "      <td>7</td>\n",
       "      <td>7</td>\n",
       "    </tr>\n",
       "    <tr>\n",
       "      <th>10</th>\n",
       "      <td>4</td>\n",
       "      <td>7</td>\n",
       "      <td>1</td>\n",
       "      <td>3</td>\n",
       "      <td>10</td>\n",
       "      <td>4</td>\n",
       "      <td>4</td>\n",
       "      <td>9</td>\n",
       "      <td>9</td>\n",
       "      <td>7</td>\n",
       "    </tr>\n",
       "    <tr>\n",
       "      <th>11</th>\n",
       "      <td>2</td>\n",
       "      <td>4</td>\n",
       "      <td>5</td>\n",
       "      <td>7</td>\n",
       "      <td>1</td>\n",
       "      <td>6</td>\n",
       "      <td>1</td>\n",
       "      <td>9</td>\n",
       "      <td>5</td>\n",
       "      <td>1</td>\n",
       "    </tr>\n",
       "    <tr>\n",
       "      <th>12</th>\n",
       "      <td>5</td>\n",
       "      <td>9</td>\n",
       "      <td>4</td>\n",
       "      <td>5</td>\n",
       "      <td>4</td>\n",
       "      <td>3</td>\n",
       "      <td>1</td>\n",
       "      <td>10</td>\n",
       "      <td>9</td>\n",
       "      <td>8</td>\n",
       "    </tr>\n",
       "    <tr>\n",
       "      <th>13</th>\n",
       "      <td>6</td>\n",
       "      <td>9</td>\n",
       "      <td>8</td>\n",
       "      <td>5</td>\n",
       "      <td>3</td>\n",
       "      <td>7</td>\n",
       "      <td>9</td>\n",
       "      <td>7</td>\n",
       "      <td>10</td>\n",
       "      <td>9</td>\n",
       "    </tr>\n",
       "    <tr>\n",
       "      <th>14</th>\n",
       "      <td>4</td>\n",
       "      <td>5</td>\n",
       "      <td>2</td>\n",
       "      <td>3</td>\n",
       "      <td>5</td>\n",
       "      <td>5</td>\n",
       "      <td>7</td>\n",
       "      <td>6</td>\n",
       "      <td>2</td>\n",
       "      <td>8</td>\n",
       "    </tr>\n",
       "    <tr>\n",
       "      <th>15</th>\n",
       "      <td>9</td>\n",
       "      <td>4</td>\n",
       "      <td>1</td>\n",
       "      <td>10</td>\n",
       "      <td>6</td>\n",
       "      <td>1</td>\n",
       "      <td>10</td>\n",
       "      <td>5</td>\n",
       "      <td>6</td>\n",
       "      <td>6</td>\n",
       "    </tr>\n",
       "    <tr>\n",
       "      <th>16</th>\n",
       "      <td>2</td>\n",
       "      <td>5</td>\n",
       "      <td>7</td>\n",
       "      <td>6</td>\n",
       "      <td>8</td>\n",
       "      <td>9</td>\n",
       "      <td>3</td>\n",
       "      <td>7</td>\n",
       "      <td>6</td>\n",
       "      <td>2</td>\n",
       "    </tr>\n",
       "    <tr>\n",
       "      <th>17</th>\n",
       "      <td>3</td>\n",
       "      <td>8</td>\n",
       "      <td>1</td>\n",
       "      <td>6</td>\n",
       "      <td>10</td>\n",
       "      <td>1</td>\n",
       "      <td>1</td>\n",
       "      <td>5</td>\n",
       "      <td>7</td>\n",
       "      <td>1</td>\n",
       "    </tr>\n",
       "    <tr>\n",
       "      <th>18</th>\n",
       "      <td>8</td>\n",
       "      <td>4</td>\n",
       "      <td>6</td>\n",
       "      <td>8</td>\n",
       "      <td>7</td>\n",
       "      <td>7</td>\n",
       "      <td>1</td>\n",
       "      <td>9</td>\n",
       "      <td>9</td>\n",
       "      <td>7</td>\n",
       "    </tr>\n",
       "    <tr>\n",
       "      <th>19</th>\n",
       "      <td>3</td>\n",
       "      <td>5</td>\n",
       "      <td>3</td>\n",
       "      <td>5</td>\n",
       "      <td>3</td>\n",
       "      <td>6</td>\n",
       "      <td>9</td>\n",
       "      <td>8</td>\n",
       "      <td>10</td>\n",
       "      <td>3</td>\n",
       "    </tr>\n",
       "  </tbody>\n",
       "</table>\n",
       "</div>"
      ],
      "text/plain": [
       "     a   b   c   d   e   f   g   h   i  j\n",
       "0    7   4   3   7   4   5   3  10   7  2\n",
       "1   10   9   2   8  10   9   9  10   2  3\n",
       "2    8   1   7   4   6   2   4   3   2  1\n",
       "3   10   6   6   3   3   3  10   5   1  6\n",
       "4   10   7   5   9   8   3   5   8   4  5\n",
       "5    7  10  10   5   1   7   6   2  10  7\n",
       "6   10   5   7   2   4   4   7   4   5  9\n",
       "7    5   6   2   3   6   8   5  10   6  8\n",
       "8    4   2   7   2   4   4   8   5   7  2\n",
       "9    8   5   3  10   7  10   8   3   7  7\n",
       "10   4   7   1   3  10   4   4   9   9  7\n",
       "11   2   4   5   7   1   6   1   9   5  1\n",
       "12   5   9   4   5   4   3   1  10   9  8\n",
       "13   6   9   8   5   3   7   9   7  10  9\n",
       "14   4   5   2   3   5   5   7   6   2  8\n",
       "15   9   4   1  10   6   1  10   5   6  6\n",
       "16   2   5   7   6   8   9   3   7   6  2\n",
       "17   3   8   1   6  10   1   1   5   7  1\n",
       "18   8   4   6   8   7   7   1   9   9  7\n",
       "19   3   5   3   5   3   6   9   8  10  3"
      ]
     },
     "execution_count": 16,
     "metadata": {},
     "output_type": "execute_result"
    }
   ],
   "source": [
    "daten = np.random.randint(1,11,size=(20,10))\n",
    "pd.DataFrame(daten,columns=list(\"abcdefghij\"))"
   ]
  },
  {
   "cell_type": "markdown",
   "metadata": {},
   "source": [
    "## Beispiel 1: Interaktive Darstellung"
   ]
  },
  {
   "cell_type": "markdown",
   "metadata": {},
   "source": [
    "Jupyter Notebooks können genutzt werden, um in der Lehre (Finance, Controlling) quantitative Zusammenhänge interaktiv darzustellen.\n",
    "\n",
    "Beispiel: Sensitivität des Net Present Value bzgl. einer Änderung des Zinssatzes"
   ]
  },
  {
   "cell_type": "code",
   "execution_count": 17,
   "metadata": {
    "collapsed": true
   },
   "outputs": [],
   "source": [
    "%matplotlib inline\n",
    "from ipywidgets import interactive\n",
    "import matplotlib.pyplot as plt\n",
    "import numpy as np\n",
    "plt.style.use(\"seaborn\")"
   ]
  },
  {
   "cell_type": "code",
   "execution_count": 18,
   "metadata": {
    "collapsed": true
   },
   "outputs": [],
   "source": [
    "def calc_pv(cfs,i):\n",
    "    t = np.arange(0,len(cfs))\n",
    "    df = 1/(1+i)**t\n",
    "    pv = np.array(cfs) * df\n",
    "    return pv.cumsum()"
   ]
  },
  {
   "cell_type": "code",
   "execution_count": 19,
   "metadata": {
    "collapsed": true
   },
   "outputs": [],
   "source": [
    "def f(i):\n",
    "    plt.figure(1,dpi=100)\n",
    "    x = np.arange(0,len(cfs))\n",
    "    pvs = calc_pv(cfs,i)\n",
    "    plt.bar(x,pvs)\n",
    "    plt.text(len(cfs),max(pvs),\"Kapitalbarwert (bei i = %r): \"%(i)+str(int(pvs[-1])))\n",
    "    miny = min(cfs)\n",
    "    maxy = calc_pv(cfs,-0.1)[-1]\n",
    "    plt.ylim([miny*1.1,maxy*1.1])\n",
    "    plt.title(\"\"\"Kumulierte Barwerte\"\"\")\n",
    "    plt.xlabel(\"Perioden\")\n",
    "    plt.ylabel(\"Barwerte\")\n",
    "    plt.show()\n",
    "w = interactive(f,i=(-0.1,0.1,0.01))"
   ]
  },
  {
   "cell_type": "code",
   "execution_count": 20,
   "metadata": {
    "collapsed": true
   },
   "outputs": [],
   "source": [
    "## Definiere Cashflow-Reihe\n",
    "cfs = [-1000,200,300,200,150,500,200]"
   ]
  },
  {
   "cell_type": "code",
   "execution_count": 21,
   "metadata": {},
   "outputs": [
    {
     "data": {
      "application/vnd.jupyter.widget-view+json": {
       "model_id": "6111f9bcb3cb478abf49bc0e30161824",
       "version_major": 2,
       "version_minor": 0
      },
      "text/plain": [
       "A Jupyter Widget"
      ]
     },
     "metadata": {},
     "output_type": "display_data"
    }
   ],
   "source": [
    "display(w)"
   ]
  },
  {
   "cell_type": "markdown",
   "metadata": {},
   "source": [
    "## Case Study: Analyse von Daten\n",
    "Eine kurze Fallstudie zur Anwendung von Jupyter Notebooks.\n",
    "\n",
    "Ziel: Vorhersage von Kundenwechselraten anhand eines fiktiven Datensatzes.\n",
    "\n",
    "Analyseschritte:\n",
    "\n",
    "1.) Daten werden aus Exceldatei eingelese  \n",
    "2.) Daten werden vorverarbeitet für Analyse\n",
    "3.) Daten werden in Trainingsdatensatz (zum Trainieren und Validieren) und Testdatensatz (zum Testen des Modells) aufgeteilt   \n",
    "4.) Modell wird anhand des Trainingsdatensatzes aufgestellt (hier GradientBoost-Klassifier)  \n",
    "5.) Modell wird an Testdatensatz ausprobiert (hier ausgelassen)\n",
    "\n",
    "Die Analyse hier erfolgt - beispielhaft - mit Hilfe der Methode \"Gradient Boosting\". Es wird auch nur eine ganz grobe Analyse vorgenommen und keine Parameter getweaked oder so. Es geht nur um die Demonstration von einem möglichen Vorgehen. \n",
    "\n",
    "Die Ausgangsdaten sind relativ \"klein\" (ein paar Tausend Zeilen). Ist der Code einmal geschrieben, könnte man aber theoretisch auch mehrere Millionen Datensätze nehmen (Vorteil ggü. Excel...).\n"
   ]
  },
  {
   "cell_type": "markdown",
   "metadata": {},
   "source": [
    "### (1) Daten werden eingelesen "
   ]
  },
  {
   "cell_type": "markdown",
   "metadata": {},
   "source": [
    "#### Importiere notwendige Bibliotheken"
   ]
  },
  {
   "cell_type": "code",
   "execution_count": 24,
   "metadata": {
    "collapsed": true
   },
   "outputs": [],
   "source": [
    "import pandas as pd\n",
    "import numpy as np\n",
    "import matplotlib.pyplot as plt\n",
    "%matplotlib inline\n",
    "plt.style.use('seaborn')"
   ]
  },
  {
   "cell_type": "markdown",
   "metadata": {},
   "source": [
    "#### Lese Datei ein"
   ]
  },
  {
   "cell_type": "code",
   "execution_count": 25,
   "metadata": {},
   "outputs": [
    {
     "data": {
      "text/plain": [
       "(3333, 18)"
      ]
     },
     "execution_count": 25,
     "metadata": {},
     "output_type": "execute_result"
    }
   ],
   "source": [
    "file = \"Churn_Data.xls\"\n",
    "df = pd.read_excel(file)\n",
    "df.shape # Datensatz mit 3.333 Zeilen und 18 Spalten"
   ]
  },
  {
   "cell_type": "code",
   "execution_count": 26,
   "metadata": {},
   "outputs": [
    {
     "data": {
      "text/html": [
       "<div>\n",
       "<style scoped>\n",
       "    .dataframe tbody tr th:only-of-type {\n",
       "        vertical-align: middle;\n",
       "    }\n",
       "\n",
       "    .dataframe tbody tr th {\n",
       "        vertical-align: top;\n",
       "    }\n",
       "\n",
       "    .dataframe thead th {\n",
       "        text-align: right;\n",
       "    }\n",
       "</style>\n",
       "<table border=\"1\" class=\"dataframe\">\n",
       "  <thead>\n",
       "    <tr style=\"text-align: right;\">\n",
       "      <th></th>\n",
       "      <th>Churn</th>\n",
       "      <th>Account Length</th>\n",
       "      <th>VMail Message</th>\n",
       "      <th>Day Mins</th>\n",
       "      <th>Eve Mins</th>\n",
       "      <th>Night Mins</th>\n",
       "      <th>Intl Mins</th>\n",
       "      <th>CustServ Calls</th>\n",
       "      <th>Day Calls</th>\n",
       "      <th>Day Charge</th>\n",
       "      <th>Eve Calls</th>\n",
       "      <th>Eve Charge</th>\n",
       "      <th>Night Calls</th>\n",
       "      <th>Night Charge</th>\n",
       "      <th>Intl Calls</th>\n",
       "      <th>Intl Charge</th>\n",
       "      <th>Area Code</th>\n",
       "      <th>Phone</th>\n",
       "    </tr>\n",
       "  </thead>\n",
       "  <tbody>\n",
       "    <tr>\n",
       "      <th>0</th>\n",
       "      <td>No</td>\n",
       "      <td>128</td>\n",
       "      <td>25</td>\n",
       "      <td>265.1</td>\n",
       "      <td>197.4</td>\n",
       "      <td>244.7</td>\n",
       "      <td>10.0</td>\n",
       "      <td>1</td>\n",
       "      <td>110</td>\n",
       "      <td>45.07</td>\n",
       "      <td>99</td>\n",
       "      <td>16.78</td>\n",
       "      <td>91</td>\n",
       "      <td>11.01</td>\n",
       "      <td>3</td>\n",
       "      <td>2.70</td>\n",
       "      <td>415</td>\n",
       "      <td>382-4657</td>\n",
       "    </tr>\n",
       "    <tr>\n",
       "      <th>1</th>\n",
       "      <td>No</td>\n",
       "      <td>107</td>\n",
       "      <td>26</td>\n",
       "      <td>161.6</td>\n",
       "      <td>195.5</td>\n",
       "      <td>254.4</td>\n",
       "      <td>13.7</td>\n",
       "      <td>1</td>\n",
       "      <td>123</td>\n",
       "      <td>27.47</td>\n",
       "      <td>103</td>\n",
       "      <td>16.62</td>\n",
       "      <td>103</td>\n",
       "      <td>11.45</td>\n",
       "      <td>3</td>\n",
       "      <td>3.70</td>\n",
       "      <td>415</td>\n",
       "      <td>371-7191</td>\n",
       "    </tr>\n",
       "    <tr>\n",
       "      <th>2</th>\n",
       "      <td>No</td>\n",
       "      <td>137</td>\n",
       "      <td>0</td>\n",
       "      <td>243.4</td>\n",
       "      <td>121.2</td>\n",
       "      <td>162.6</td>\n",
       "      <td>12.2</td>\n",
       "      <td>0</td>\n",
       "      <td>114</td>\n",
       "      <td>41.38</td>\n",
       "      <td>110</td>\n",
       "      <td>10.30</td>\n",
       "      <td>104</td>\n",
       "      <td>7.32</td>\n",
       "      <td>5</td>\n",
       "      <td>3.29</td>\n",
       "      <td>415</td>\n",
       "      <td>358-1921</td>\n",
       "    </tr>\n",
       "    <tr>\n",
       "      <th>3</th>\n",
       "      <td>No</td>\n",
       "      <td>84</td>\n",
       "      <td>0</td>\n",
       "      <td>299.4</td>\n",
       "      <td>61.9</td>\n",
       "      <td>196.9</td>\n",
       "      <td>6.6</td>\n",
       "      <td>2</td>\n",
       "      <td>71</td>\n",
       "      <td>50.90</td>\n",
       "      <td>88</td>\n",
       "      <td>5.26</td>\n",
       "      <td>89</td>\n",
       "      <td>8.86</td>\n",
       "      <td>7</td>\n",
       "      <td>1.78</td>\n",
       "      <td>408</td>\n",
       "      <td>375-9999</td>\n",
       "    </tr>\n",
       "    <tr>\n",
       "      <th>4</th>\n",
       "      <td>No</td>\n",
       "      <td>75</td>\n",
       "      <td>0</td>\n",
       "      <td>166.7</td>\n",
       "      <td>148.3</td>\n",
       "      <td>186.9</td>\n",
       "      <td>10.1</td>\n",
       "      <td>3</td>\n",
       "      <td>113</td>\n",
       "      <td>28.34</td>\n",
       "      <td>122</td>\n",
       "      <td>12.61</td>\n",
       "      <td>121</td>\n",
       "      <td>8.41</td>\n",
       "      <td>3</td>\n",
       "      <td>2.73</td>\n",
       "      <td>415</td>\n",
       "      <td>330-6626</td>\n",
       "    </tr>\n",
       "  </tbody>\n",
       "</table>\n",
       "</div>"
      ],
      "text/plain": [
       "  Churn  Account Length  VMail Message  Day Mins  Eve Mins  Night Mins  \\\n",
       "0    No             128             25     265.1     197.4       244.7   \n",
       "1    No             107             26     161.6     195.5       254.4   \n",
       "2    No             137              0     243.4     121.2       162.6   \n",
       "3    No              84              0     299.4      61.9       196.9   \n",
       "4    No              75              0     166.7     148.3       186.9   \n",
       "\n",
       "   Intl Mins  CustServ Calls  Day Calls  Day Charge  Eve Calls  Eve Charge  \\\n",
       "0       10.0               1        110       45.07         99       16.78   \n",
       "1       13.7               1        123       27.47        103       16.62   \n",
       "2       12.2               0        114       41.38        110       10.30   \n",
       "3        6.6               2         71       50.90         88        5.26   \n",
       "4       10.1               3        113       28.34        122       12.61   \n",
       "\n",
       "   Night Calls  Night Charge  Intl Calls  Intl Charge  Area Code     Phone  \n",
       "0           91         11.01           3         2.70        415  382-4657  \n",
       "1          103         11.45           3         3.70        415  371-7191  \n",
       "2          104          7.32           5         3.29        415  358-1921  \n",
       "3           89          8.86           7         1.78        408  375-9999  \n",
       "4          121          8.41           3         2.73        415  330-6626  "
      ]
     },
     "execution_count": 26,
     "metadata": {},
     "output_type": "execute_result"
    }
   ],
   "source": [
    "df.head() # Ersten 5 Zeilen des Datensatzes"
   ]
  },
  {
   "cell_type": "markdown",
   "metadata": {},
   "source": [
    "### (2) Daten werden vorverarbeitet\n",
    "- x und y definieren\n",
    "- Standardisieren (Durchschnitt = 0, Standardabweichung = 1)"
   ]
  },
  {
   "cell_type": "code",
   "execution_count": 30,
   "metadata": {},
   "outputs": [
    {
     "data": {
      "text/plain": [
       "(3333,)"
      ]
     },
     "execution_count": 30,
     "metadata": {},
     "output_type": "execute_result"
    }
   ],
   "source": [
    "y = df[\"Churn\"] # Spalte mit Angabe über Churn (Wechsel zu anderem Anbieter) ist die zu erklärende Variable\n",
    "y = np.where(y == \"No\",0,1) # umwandeln in 0 und 1, da Computer nicht mit \"yes\" und \"no\" umgehen kann\n",
    "y.shape # y hat 3.333 Zeilen"
   ]
  },
  {
   "cell_type": "code",
   "execution_count": 34,
   "metadata": {
    "collapsed": true
   },
   "outputs": [],
   "source": [
    "X = df.iloc[:,1:-1] # als X (erklärende Variablen) werden alle Variablen außer Churn und die Telefonnummer (ist ja einzigartig und kann nix erklären)\n",
    "X = np.array(X) #X wird in numpy array umgewandelt (besser für Analyse)"
   ]
  },
  {
   "cell_type": "code",
   "execution_count": 35,
   "metadata": {},
   "outputs": [
    {
     "data": {
      "text/plain": [
       "(3333, 16)"
      ]
     },
     "execution_count": 35,
     "metadata": {},
     "output_type": "execute_result"
    }
   ],
   "source": [
    "X_scaled = (X - X.mean(axis=0)) / X.std(axis=0) # X wird skaliert, um die Analyse zu vereinfachen (Standardisieren)\n",
    "X_scaled.shape # X hat 3.333 Zeilen und 16 Spalten (erklärende Faktoren)"
   ]
  },
  {
   "cell_type": "code",
   "execution_count": 38,
   "metadata": {},
   "outputs": [
    {
     "data": {
      "text/plain": [
       "7.6146709699763216e-17"
      ]
     },
     "execution_count": 38,
     "metadata": {},
     "output_type": "execute_result"
    }
   ],
   "source": [
    "X_scaled.mean(axis=0).mean() # Skalierung hat funktioniert: Durchschnitt liegt für alle Wert bei 0"
   ]
  },
  {
   "cell_type": "code",
   "execution_count": 40,
   "metadata": {},
   "outputs": [
    {
     "data": {
      "text/plain": [
       "1.0"
      ]
     },
     "execution_count": 40,
     "metadata": {},
     "output_type": "execute_result"
    }
   ],
   "source": [
    "X_scaled.std(axis=0).mean() # Skalierung hat funktioniert: Standardabweichung liegt für alle Werte bei 1"
   ]
  },
  {
   "cell_type": "markdown",
   "metadata": {},
   "source": [
    "### (3) Einteilen in Trainings- und Validierungsset und Testset\n",
    "\n",
    "Um eine sinnvolle Analyse durchzuführen, muss ich mein zu ermittelndes Modell testen bzw. validieren können. Vorgehen ist dabei wie folgt:\n",
    "\n",
    "Teile vorhandenen Datensatz auf in:\n",
    "- Trainingsdatensatz: anhand dessen wird Modell zur Vorhersage erstellt\n",
    "- Testdatensatz: anhand dessen wird Modell getestet (das Modell sollte ja so generell sein, dass bei neuen Daten funktioniert)"
   ]
  },
  {
   "cell_type": "code",
   "execution_count": 43,
   "metadata": {
    "collapsed": true
   },
   "outputs": [],
   "source": [
    "from sklearn.model_selection import train_test_split"
   ]
  },
  {
   "cell_type": "code",
   "execution_count": 44,
   "metadata": {
    "collapsed": true
   },
   "outputs": [],
   "source": [
    "X_train,X_test,Y_train,Y_test = train_test_split(X_scaled,y,test_size=0.33)"
   ]
  },
  {
   "cell_type": "markdown",
   "metadata": {},
   "source": [
    "### (4) Aufstellen eines Modelles und (5) Testen an Testdatensatz"
   ]
  },
  {
   "cell_type": "code",
   "execution_count": 48,
   "metadata": {
    "collapsed": true
   },
   "outputs": [],
   "source": [
    "from sklearn.model_selection import cross_val_score\n",
    "from sklearn.ensemble import GradientBoostingClassifier\n",
    "from sklearn.metrics import accuracy_score,classification_report, confusion_matrix\n",
    "import seaborn as sb"
   ]
  },
  {
   "cell_type": "code",
   "execution_count": 46,
   "metadata": {
    "collapsed": true
   },
   "outputs": [],
   "source": [
    "model = GradientBoostingClassifier(learning_rate=0.2,n_estimators=1000) #Gradient Boosting hier als Beispiel\n",
    "cv = cross_val_score(model,X_train,Y_train,scoring='accuracy')"
   ]
  },
  {
   "cell_type": "code",
   "execution_count": 60,
   "metadata": {},
   "outputs": [
    {
     "name": "stdout",
     "output_type": "stream",
     "text": [
      "\n",
      "Das Model hat eine Genauigkeit von\n",
      "\n",
      "0.901925019846\n",
      "\n",
      "(Trainings- und Validierungsset)\n",
      "\n",
      "\n",
      "\n"
     ]
    }
   ],
   "source": [
    "text=\"\"\"\n",
    "Das Model hat eine Genauigkeit von\n",
    "\n",
    "%s\n",
    "\n",
    "(Trainings- und Validierungsset)\n",
    "\n",
    "\n",
    "\"\"\"%(np.mean(cv))\n",
    "\n",
    "print(text)"
   ]
  },
  {
   "cell_type": "markdown",
   "metadata": {},
   "source": [
    "was heißt jetzt aber Genauigkeit von 90%? 90% der Vohersagen des Modells sind richtig (z.b. wenn 1, dann hat Modell 1 vorhergesagt). Aber: wenn Churn aber nicht gleich verteilt ist, d.h. es z.B. viel mehr Kunden gibt, die nicht gewechselt sind, als solche die gewechselt sind, dann hat die Zahl 90% wenig Aussagekraft. Wenn z.B. 90% von y keine Wechsler sind, dann wäre ein relativ simples Modell ja, dass man einfach immer \"kein Wechsel\" (hier: 0) vorhersagt. Dann hätte man auch eine Genauigkeit von 90%. In unserem Datensatz sind in 85% der Fällen (siehe nächste Zeile) \"kein Wechsler\". D.h. wir benötigen ein anderes Maß, um zu beurteilen, ob unser Modell \"gut\" ist. "
   ]
  },
  {
   "cell_type": "code",
   "execution_count": 70,
   "metadata": {},
   "outputs": [
    {
     "name": "stdout",
     "output_type": "stream",
     "text": [
      "\n",
      "Der Datensatz enthält \n",
      "\n",
      "0.85508550855085508 Nullen (kein Wechsel) \n",
      "\n",
      "und\n",
      "\n",
      "0.14491449144914492 Einsen (Wechsler).\n",
      "\n",
      "\n"
     ]
    }
   ],
   "source": [
    "perc = np.bincount(y) / len(y)\n",
    "\n",
    "text = \"\"\"\n",
    "Der Datensatz enthält \n",
    "\n",
    "%r Nullen (kein Wechsel) \n",
    "\n",
    "und\n",
    "\n",
    "%r Einsen (Wechsler).\n",
    "\n",
    "\"\"\"%(perc[0],perc[1])\n",
    "print(text)"
   ]
  },
  {
   "cell_type": "markdown",
   "metadata": {},
   "source": [
    "Hier bieten sich \"Precision\" und \"Recall\" (siehe [hier](https://en.wikipedia.org/wiki/Precision_and_recall)) an, da die Kennzahlen bestimmen, (i) wieviele unserer vorhergesagten \"Wechsler\" richtig sind bzw. (ii) wieviel \"Wechsler\" wir vorhergesagt haben. Der Unterschied ist natürlich ziemlich relevant. In der nächsten Zelle kann man sehen, dass unser Modell ganz ok ist. Die vorhergesagten 1er sind zu 84% auch 1er. Aber: von allen 1ern haben wir nur 61% korrekt vorhergesagt. Das Modell ist also noch nicht perfekt (geht ja vllt auch nicht besser, weil in den Daten Zufall steckt...), es geht aber ja auch nur um Demonstationszwecke und die so bestimmten Wahrscheinlichkeiten vermutlich schon besser wären, als nur zu raten... "
   ]
  },
  {
   "cell_type": "code",
   "execution_count": 64,
   "metadata": {},
   "outputs": [
    {
     "name": "stdout",
     "output_type": "stream",
     "text": [
      "             precision    recall  f1-score   support\n",
      "\n",
      "          0       0.93      0.98      0.96       935\n",
      "          1       0.84      0.61      0.70       165\n",
      "\n",
      "avg / total       0.92      0.92      0.92      1100\n",
      "\n"
     ]
    }
   ],
   "source": [
    "model.fit(X_train,Y_train)\n",
    "yhat = model.predict(X_test)\n",
    "print(classification_report(Y_test,yhat))"
   ]
  }
 ],
 "metadata": {
  "kernelspec": {
   "display_name": "Python 3",
   "language": "python",
   "name": "python3"
  },
  "language_info": {
   "codemirror_mode": {
    "name": "ipython",
    "version": 3
   },
   "file_extension": ".py",
   "mimetype": "text/x-python",
   "name": "python",
   "nbconvert_exporter": "python",
   "pygments_lexer": "ipython3",
   "version": "3.6.3"
  }
 },
 "nbformat": 4,
 "nbformat_minor": 2
}
