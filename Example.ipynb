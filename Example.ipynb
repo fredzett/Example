{
 "cells": [
  {
   "cell_type": "markdown",
   "metadata": {},
   "source": [
    "# Einführung - Jupyter Notebooks"
   ]
  },
  {
   "cell_type": "markdown",
   "metadata": {},
   "source": [
    "Das ideale Tools zur Datenanalyse "
   ]
  },
  {
   "cell_type": "markdown",
   "metadata": {},
   "source": [
    "## Einleitung"
   ]
  },
  {
   "cell_type": "markdown",
   "metadata": {},
   "source": [
    "In Jupyter Notebooks können sowohl **Programmcodes** (zumeist Python), also auch **Textelemente** (Markdown-Format) dargestellt und ausgeführt werden. D.h. der Anwender kann \n",
    "\n",
    "1. Programme oder Programmteile ausführen, um Analysen durchzuführen und\n",
    "2. Ergebnisse, Beschreibungen und Graphiken zu den ausgeführten Analysen hinzufügen\n",
    "\n",
    "Jupyter Notebooks kombinieren damit zwei Welten (Programmierung und Textverarbeitung), die besonders für Datananalyseprojekte hilfreich sind. Insofern ist es nicht verwunderlich, dass sich Jupyter Notebooks seit einigen Jahren zur Standardentwicklungsumgebung für Wissenschaftler und Data Scientist entwickelt haben. \n",
    "\n",
    "Insbesondere der **interaktive bzw. iterative** Charakter von Jupyter Notebook hat dazu geführt, dass gerade explorative Analysen, die **nicht linear** \"runterprogrammiert\" werden können (Stichwort: \"trial and error\") mit Jupyter Notebooks durchgeführt werden.\n",
    "\n",
    "Jupyter Notebooks sind \"open source\" und können [hier](http://jupyter.org/) bzw. idealerweise direkt zusammen mit einem Packetmanager [hier](https://www.anaconda.com/download/) (Erläuterung siehe unten) heruntergeladen werden. \n",
    "\n",
    "Das hier vorliegende Dokument ist ein solches Notebook. In den folgenden Zeilen soll anhand einiger sehr einfacher Beispiele erläutert werden, warum Jupyter Notebooks so vorteilhaft sind."
   ]
  },
  {
   "cell_type": "markdown",
   "metadata": {},
   "source": [
    "## Funktionsweise von Jupyter Notebooks"
   ]
  },
  {
   "cell_type": "markdown",
   "metadata": {},
   "source": [
    "Jede Zeile eines Jupyter Note kann separat ausgeführt werden, in dem man Shift + Enter drückt. \n",
    "\n",
    "Einfach ausprobieren!!"
   ]
  },
  {
   "cell_type": "code",
   "execution_count": 289,
   "metadata": {},
   "outputs": [
    {
     "data": {
      "text/plain": [
       "6"
      ]
     },
     "execution_count": 289,
     "metadata": {},
     "output_type": "execute_result"
    }
   ],
   "source": [
    "3 + 3"
   ]
  },
  {
   "cell_type": "code",
   "execution_count": 290,
   "metadata": {},
   "outputs": [
    {
     "data": {
      "text/plain": [
       "['ich', 'bin', 'eine', 'Liste']"
      ]
     },
     "execution_count": 290,
     "metadata": {},
     "output_type": "execute_result"
    }
   ],
   "source": [
    "liste = [\"ich\",\"bin\",\"eine\",\"Liste\"]\n",
    "liste"
   ]
  },
  {
   "cell_type": "markdown",
   "metadata": {},
   "source": [
    "Wie in \"normalen\" Programmen können so aber komplexere Programmteile ausgeführt werden (z.B. Funktionen oder Klassen)"
   ]
  },
  {
   "cell_type": "code",
   "execution_count": 291,
   "metadata": {
    "collapsed": true
   },
   "outputs": [],
   "source": [
    "def plus_zwei(x):\n",
    "    return x + 2"
   ]
  },
  {
   "cell_type": "code",
   "execution_count": 292,
   "metadata": {},
   "outputs": [
    {
     "data": {
      "text/plain": [
       "12"
      ]
     },
     "execution_count": 292,
     "metadata": {},
     "output_type": "execute_result"
    }
   ],
   "source": [
    "x = 10\n",
    "y = plus_zwei(x)\n",
    "y"
   ]
  },
  {
   "cell_type": "markdown",
   "metadata": {},
   "source": [
    "Variablen, Funkionen etc., die in Zeilen genutzt werden, können in anderen Zeilen wieder aufgegriffen werden"
   ]
  },
  {
   "cell_type": "code",
   "execution_count": 293,
   "metadata": {},
   "outputs": [
    {
     "data": {
      "text/plain": [
       "14"
      ]
     },
     "execution_count": 293,
     "metadata": {},
     "output_type": "execute_result"
    }
   ],
   "source": [
    "z = plus_zwei(y)\n",
    "z"
   ]
  },
  {
   "cell_type": "markdown",
   "metadata": {},
   "source": [
    "Jupyter Notebooks und Python bieten auch objektorientierte Programmierung an"
   ]
  },
  {
   "cell_type": "code",
   "execution_count": 294,
   "metadata": {
    "collapsed": true
   },
   "outputs": [],
   "source": [
    "class Person(object):\n",
    "    def __init__(self,name,alter, beschreibung):\n",
    "        self.name = name\n",
    "        self.alter = alter\n",
    "        self.beschreibung = beschreibung"
   ]
  },
  {
   "cell_type": "code",
   "execution_count": 295,
   "metadata": {
    "collapsed": true
   },
   "outputs": [],
   "source": [
    "EinePerson = Person(\"Felix\",36,\"Ich bin eine Instanz der Klasse 'Person'\")"
   ]
  },
  {
   "cell_type": "code",
   "execution_count": 296,
   "metadata": {},
   "outputs": [
    {
     "name": "stdout",
     "output_type": "stream",
     "text": [
      "Infos zu Felix:\n",
      "- Alter: 36\n",
      "- Beschreibung: Ich bin eine Instanz der Klasse 'Person'\n",
      "\n"
     ]
    }
   ],
   "source": [
    "text = \"\"\"Infos zu %s:\n",
    "- Alter: %r\n",
    "- Beschreibung: %s\n",
    "\"\"\"%(EinePerson.name, EinePerson.alter, EinePerson.beschreibung)\n",
    "print(text)"
   ]
  },
  {
   "cell_type": "markdown",
   "metadata": {},
   "source": [
    "Fazit: in Jupyter Notebooks kann herkömmlich programmiert werden. Die Kombination aus interaktiver Entwicklungsumgebung und Python - einer sehr mächtigen und dennoch grundsätzlich intuitiven Programmiersprache - ermöglicht es insbesondere Anwendern mit wenig oder keinen Programmierkenntnissen schnell Lernerfolge zu erzielen"
   ]
  },
  {
   "cell_type": "markdown",
   "metadata": {},
   "source": [
    "## Einführung: Bibliotheken (Packages) von Python"
   ]
  },
  {
   "cell_type": "markdown",
   "metadata": {},
   "source": [
    "Eine der größten Stärken der Programmmiersprache Python ist, dass es bereits eine Vielzahl (hunderte) von Bibliotheken gibt, mit denen eine Vielzahl an Programmierbereichen bereits abgedeckt wird. Ein paar Beispiele:\n",
    "- Numpy: Bibliothek mit Matrix und Vektoroperationen\n",
    "- Pandas: Bibliothek für Datenanalysen\n",
    "- Matplotlib: Bibliothek zur Darstellung von Graphiken\n",
    "- Scikit Learn: Bibliothek für Machine Learning\n",
    "- Keras: Bibliothek für Deep Learning (von Google)\n",
    "\n",
    "Sowohl Python als auch die Bibliotheken sind \"open source\" und können über den [Anaconda Packagemanager](https://www.anaconda.com/download/) heruntergeladen und eingebunden werden."
   ]
  },
  {
   "cell_type": "markdown",
   "metadata": {},
   "source": [
    "Einbinden einer Bibliothek erfolgt via \"import\""
   ]
  },
  {
   "cell_type": "code",
   "execution_count": 297,
   "metadata": {
    "collapsed": true
   },
   "outputs": [],
   "source": [
    "import numpy as np"
   ]
  },
  {
   "cell_type": "code",
   "execution_count": 298,
   "metadata": {},
   "outputs": [
    {
     "data": {
      "text/plain": [
       "array([[ 0.85543777],\n",
       "       [ 0.69444296],\n",
       "       [ 0.15541938],\n",
       "       ..., \n",
       "       [ 0.88561404],\n",
       "       [ 0.43387564],\n",
       "       [ 0.6276697 ]])"
      ]
     },
     "execution_count": 298,
     "metadata": {},
     "output_type": "execute_result"
    }
   ],
   "source": [
    "X = np.random.random(size=(10000,1))\n",
    "X"
   ]
  },
  {
   "cell_type": "code",
   "execution_count": 299,
   "metadata": {},
   "outputs": [
    {
     "data": {
      "text/plain": [
       "(10000, 1)"
      ]
     },
     "execution_count": 299,
     "metadata": {},
     "output_type": "execute_result"
    }
   ],
   "source": [
    "X.shape"
   ]
  },
  {
   "cell_type": "code",
   "execution_count": 300,
   "metadata": {
    "collapsed": true
   },
   "outputs": [],
   "source": [
    "import matplotlib.pyplot as plt\n",
    "%matplotlib inline\n",
    "plt.style.use(\"ggplot\")"
   ]
  },
  {
   "cell_type": "code",
   "execution_count": 301,
   "metadata": {},
   "outputs": [],
   "source": [
    "x = [1,2,3,4,5]\n",
    "y = np.random.random(5)"
   ]
  },
  {
   "cell_type": "code",
   "execution_count": 302,
   "metadata": {},
   "outputs": [
    {
     "data": {
      "image/png": "[encoded data removed]",
      "text/plain": [
       "<matplotlib.figure.Figure at 0x1bf52dcecc0>"
      ]
     },
     "metadata": {},
     "output_type": "display_data"
    }
   ],
   "source": [
    "plt.plot(x,y)\n",
    "plt.title(\"Dies ist ein Graph\")\n",
    "plt.xlabel(\"X\")\n",
    "plt.ylabel(\"Y\");"
   ]
  },
  {
   "cell_type": "code",
   "execution_count": 303,
   "metadata": {
    "collapsed": true
   },
   "outputs": [],
   "source": [
    "import pandas as pd"
   ]
  },
  {
   "cell_type": "code",
   "execution_count": 304,
   "metadata": {},
   "outputs": [
    {
     "data": {
      "text/html": [
       "<div>\n",
       "<style scoped>\n",
       "    .dataframe tbody tr th:only-of-type {\n",
       "        vertical-align: middle;\n",
       "    }\n",
       "\n",
       "    .dataframe tbody tr th {\n",
       "        vertical-align: top;\n",
       "    }\n",
       "\n",
       "    .dataframe thead th {\n",
       "        text-align: right;\n",
       "    }\n",
       "</style>\n",
       "<table border=\"1\" class=\"dataframe\">\n",
       "  <thead>\n",
       "    <tr style=\"text-align: right;\">\n",
       "      <th></th>\n",
       "      <th>a</th>\n",
       "      <th>b</th>\n",
       "      <th>c</th>\n",
       "      <th>d</th>\n",
       "      <th>e</th>\n",
       "      <th>f</th>\n",
       "      <th>g</th>\n",
       "      <th>h</th>\n",
       "      <th>i</th>\n",
       "      <th>j</th>\n",
       "    </tr>\n",
       "  </thead>\n",
       "  <tbody>\n",
       "    <tr>\n",
       "      <th>0</th>\n",
       "      <td>4</td>\n",
       "      <td>6</td>\n",
       "      <td>1</td>\n",
       "      <td>5</td>\n",
       "      <td>4</td>\n",
       "      <td>10</td>\n",
       "      <td>1</td>\n",
       "      <td>8</td>\n",
       "      <td>2</td>\n",
       "      <td>5</td>\n",
       "    </tr>\n",
       "    <tr>\n",
       "      <th>1</th>\n",
       "      <td>3</td>\n",
       "      <td>3</td>\n",
       "      <td>7</td>\n",
       "      <td>2</td>\n",
       "      <td>3</td>\n",
       "      <td>6</td>\n",
       "      <td>1</td>\n",
       "      <td>5</td>\n",
       "      <td>7</td>\n",
       "      <td>5</td>\n",
       "    </tr>\n",
       "    <tr>\n",
       "      <th>2</th>\n",
       "      <td>9</td>\n",
       "      <td>4</td>\n",
       "      <td>8</td>\n",
       "      <td>2</td>\n",
       "      <td>10</td>\n",
       "      <td>6</td>\n",
       "      <td>9</td>\n",
       "      <td>1</td>\n",
       "      <td>1</td>\n",
       "      <td>6</td>\n",
       "    </tr>\n",
       "    <tr>\n",
       "      <th>3</th>\n",
       "      <td>8</td>\n",
       "      <td>6</td>\n",
       "      <td>7</td>\n",
       "      <td>3</td>\n",
       "      <td>4</td>\n",
       "      <td>9</td>\n",
       "      <td>6</td>\n",
       "      <td>9</td>\n",
       "      <td>10</td>\n",
       "      <td>1</td>\n",
       "    </tr>\n",
       "    <tr>\n",
       "      <th>4</th>\n",
       "      <td>10</td>\n",
       "      <td>9</td>\n",
       "      <td>8</td>\n",
       "      <td>3</td>\n",
       "      <td>8</td>\n",
       "      <td>2</td>\n",
       "      <td>1</td>\n",
       "      <td>1</td>\n",
       "      <td>4</td>\n",
       "      <td>10</td>\n",
       "    </tr>\n",
       "    <tr>\n",
       "      <th>5</th>\n",
       "      <td>4</td>\n",
       "      <td>7</td>\n",
       "      <td>5</td>\n",
       "      <td>7</td>\n",
       "      <td>3</td>\n",
       "      <td>5</td>\n",
       "      <td>4</td>\n",
       "      <td>9</td>\n",
       "      <td>3</td>\n",
       "      <td>6</td>\n",
       "    </tr>\n",
       "    <tr>\n",
       "      <th>6</th>\n",
       "      <td>7</td>\n",
       "      <td>4</td>\n",
       "      <td>7</td>\n",
       "      <td>5</td>\n",
       "      <td>2</td>\n",
       "      <td>9</td>\n",
       "      <td>7</td>\n",
       "      <td>9</td>\n",
       "      <td>1</td>\n",
       "      <td>3</td>\n",
       "    </tr>\n",
       "    <tr>\n",
       "      <th>7</th>\n",
       "      <td>9</td>\n",
       "      <td>3</td>\n",
       "      <td>2</td>\n",
       "      <td>1</td>\n",
       "      <td>8</td>\n",
       "      <td>10</td>\n",
       "      <td>2</td>\n",
       "      <td>6</td>\n",
       "      <td>9</td>\n",
       "      <td>2</td>\n",
       "    </tr>\n",
       "    <tr>\n",
       "      <th>8</th>\n",
       "      <td>9</td>\n",
       "      <td>9</td>\n",
       "      <td>5</td>\n",
       "      <td>8</td>\n",
       "      <td>2</td>\n",
       "      <td>4</td>\n",
       "      <td>3</td>\n",
       "      <td>8</td>\n",
       "      <td>10</td>\n",
       "      <td>5</td>\n",
       "    </tr>\n",
       "    <tr>\n",
       "      <th>9</th>\n",
       "      <td>10</td>\n",
       "      <td>7</td>\n",
       "      <td>1</td>\n",
       "      <td>9</td>\n",
       "      <td>7</td>\n",
       "      <td>2</td>\n",
       "      <td>9</td>\n",
       "      <td>10</td>\n",
       "      <td>9</td>\n",
       "      <td>8</td>\n",
       "    </tr>\n",
       "    <tr>\n",
       "      <th>10</th>\n",
       "      <td>3</td>\n",
       "      <td>4</td>\n",
       "      <td>9</td>\n",
       "      <td>8</td>\n",
       "      <td>3</td>\n",
       "      <td>7</td>\n",
       "      <td>10</td>\n",
       "      <td>9</td>\n",
       "      <td>8</td>\n",
       "      <td>1</td>\n",
       "    </tr>\n",
       "    <tr>\n",
       "      <th>11</th>\n",
       "      <td>7</td>\n",
       "      <td>7</td>\n",
       "      <td>3</td>\n",
       "      <td>4</td>\n",
       "      <td>1</td>\n",
       "      <td>10</td>\n",
       "      <td>8</td>\n",
       "      <td>8</td>\n",
       "      <td>5</td>\n",
       "      <td>2</td>\n",
       "    </tr>\n",
       "    <tr>\n",
       "      <th>12</th>\n",
       "      <td>3</td>\n",
       "      <td>7</td>\n",
       "      <td>4</td>\n",
       "      <td>3</td>\n",
       "      <td>8</td>\n",
       "      <td>3</td>\n",
       "      <td>10</td>\n",
       "      <td>8</td>\n",
       "      <td>5</td>\n",
       "      <td>1</td>\n",
       "    </tr>\n",
       "    <tr>\n",
       "      <th>13</th>\n",
       "      <td>4</td>\n",
       "      <td>10</td>\n",
       "      <td>1</td>\n",
       "      <td>4</td>\n",
       "      <td>2</td>\n",
       "      <td>4</td>\n",
       "      <td>9</td>\n",
       "      <td>10</td>\n",
       "      <td>9</td>\n",
       "      <td>4</td>\n",
       "    </tr>\n",
       "    <tr>\n",
       "      <th>14</th>\n",
       "      <td>10</td>\n",
       "      <td>10</td>\n",
       "      <td>10</td>\n",
       "      <td>3</td>\n",
       "      <td>5</td>\n",
       "      <td>2</td>\n",
       "      <td>5</td>\n",
       "      <td>7</td>\n",
       "      <td>1</td>\n",
       "      <td>1</td>\n",
       "    </tr>\n",
       "    <tr>\n",
       "      <th>15</th>\n",
       "      <td>6</td>\n",
       "      <td>7</td>\n",
       "      <td>8</td>\n",
       "      <td>5</td>\n",
       "      <td>3</td>\n",
       "      <td>1</td>\n",
       "      <td>10</td>\n",
       "      <td>1</td>\n",
       "      <td>3</td>\n",
       "      <td>2</td>\n",
       "    </tr>\n",
       "    <tr>\n",
       "      <th>16</th>\n",
       "      <td>5</td>\n",
       "      <td>9</td>\n",
       "      <td>1</td>\n",
       "      <td>5</td>\n",
       "      <td>10</td>\n",
       "      <td>10</td>\n",
       "      <td>2</td>\n",
       "      <td>7</td>\n",
       "      <td>6</td>\n",
       "      <td>6</td>\n",
       "    </tr>\n",
       "    <tr>\n",
       "      <th>17</th>\n",
       "      <td>1</td>\n",
       "      <td>10</td>\n",
       "      <td>8</td>\n",
       "      <td>6</td>\n",
       "      <td>1</td>\n",
       "      <td>7</td>\n",
       "      <td>1</td>\n",
       "      <td>5</td>\n",
       "      <td>4</td>\n",
       "      <td>4</td>\n",
       "    </tr>\n",
       "    <tr>\n",
       "      <th>18</th>\n",
       "      <td>8</td>\n",
       "      <td>3</td>\n",
       "      <td>4</td>\n",
       "      <td>3</td>\n",
       "      <td>4</td>\n",
       "      <td>10</td>\n",
       "      <td>8</td>\n",
       "      <td>7</td>\n",
       "      <td>4</td>\n",
       "      <td>8</td>\n",
       "    </tr>\n",
       "    <tr>\n",
       "      <th>19</th>\n",
       "      <td>1</td>\n",
       "      <td>2</td>\n",
       "      <td>6</td>\n",
       "      <td>1</td>\n",
       "      <td>6</td>\n",
       "      <td>9</td>\n",
       "      <td>7</td>\n",
       "      <td>5</td>\n",
       "      <td>9</td>\n",
       "      <td>7</td>\n",
       "    </tr>\n",
       "  </tbody>\n",
       "</table>\n",
       "</div>"
      ],
      "text/plain": [
       "     a   b   c  d   e   f   g   h   i   j\n",
       "0    4   6   1  5   4  10   1   8   2   5\n",
       "1    3   3   7  2   3   6   1   5   7   5\n",
       "2    9   4   8  2  10   6   9   1   1   6\n",
       "3    8   6   7  3   4   9   6   9  10   1\n",
       "4   10   9   8  3   8   2   1   1   4  10\n",
       "5    4   7   5  7   3   5   4   9   3   6\n",
       "6    7   4   7  5   2   9   7   9   1   3\n",
       "7    9   3   2  1   8  10   2   6   9   2\n",
       "8    9   9   5  8   2   4   3   8  10   5\n",
       "9   10   7   1  9   7   2   9  10   9   8\n",
       "10   3   4   9  8   3   7  10   9   8   1\n",
       "11   7   7   3  4   1  10   8   8   5   2\n",
       "12   3   7   4  3   8   3  10   8   5   1\n",
       "13   4  10   1  4   2   4   9  10   9   4\n",
       "14  10  10  10  3   5   2   5   7   1   1\n",
       "15   6   7   8  5   3   1  10   1   3   2\n",
       "16   5   9   1  5  10  10   2   7   6   6\n",
       "17   1  10   8  6   1   7   1   5   4   4\n",
       "18   8   3   4  3   4  10   8   7   4   8\n",
       "19   1   2   6  1   6   9   7   5   9   7"
      ]
     },
     "execution_count": 304,
     "metadata": {},
     "output_type": "execute_result"
    }
   ],
   "source": [
    "daten = np.random.randint(1,11,size=(20,10))\n",
    "pd.DataFrame(daten,columns=list(\"abcdefghij\"))"
   ]
  },
  {
   "cell_type": "markdown",
   "metadata": {},
   "source": [
    "## Beispiel 1: Interaktive Darstellung"
   ]
  },
  {
   "cell_type": "markdown",
   "metadata": {},
   "source": [
    "Jupyter Notebooks können genutzt werden, um in der Lehre (Finance, Controlling) quantitative Zusammenhänge interaktiv darzustellen.\n",
    "\n",
    "Beispiel: Sensitivität des Net Present Value bzgl. einer Änderung des Zinssatzes"
   ]
  },
  {
   "cell_type": "code",
   "execution_count": 305,
   "metadata": {
    "collapsed": true
   },
   "outputs": [],
   "source": [
    "%matplotlib inline\n",
    "from ipywidgets import interactive\n",
    "import matplotlib.pyplot as plt\n",
    "import numpy as np\n",
    "plt.style.use(\"seaborn\")"
   ]
  },
  {
   "cell_type": "code",
   "execution_count": 260,
   "metadata": {
    "collapsed": true
   },
   "outputs": [],
   "source": [
    "def calc_pv(cfs,i):\n",
    "    t = np.arange(0,len(cfs))\n",
    "    df = 1/(1+i)**t\n",
    "    pv = np.array(cfs) * df\n",
    "    return pv.cumsum()"
   ]
  },
  {
   "cell_type": "code",
   "execution_count": 261,
   "metadata": {},
   "outputs": [],
   "source": [
    "def f(i):\n",
    "    plt.figure(1,dpi=100)\n",
    "    x = np.arange(0,len(cfs))\n",
    "    pvs = calc_pv(cfs,i)\n",
    "    plt.bar(x,pvs)\n",
    "    plt.text(len(cfs),max(pvs),\"Kapitalbarwert (bei i = %r): \"%(i)+str(int(pvs[-1])))\n",
    "    miny = min(cfs)\n",
    "    maxy = calc_pv(cfs,-0.1)[-1]\n",
    "    plt.ylim([miny*1.1,maxy*1.1])\n",
    "    plt.title(\"\"\"Kumulierte Barwerte\"\"\")\n",
    "    plt.xlabel(\"Perioden\")\n",
    "    plt.ylabel(\"Barwerte\")\n",
    "    plt.show()\n",
    "w = interactive(f,i=(-0.1,0.1,0.01))"
   ]
  },
  {
   "cell_type": "code",
   "execution_count": 262,
   "metadata": {
    "collapsed": true
   },
   "outputs": [],
   "source": [
    "## Definiere Cashflow-Reihe\n",
    "cfs = [-1000,200,300,200,150,500,200]"
   ]
  },
  {
   "cell_type": "code",
   "execution_count": 263,
   "metadata": {},
   "outputs": [
    {
     "data": {
      "application/vnd.jupyter.widget-view+json": {
       "model_id": "59ce190dde3a48808e6a4d5810b450d4",
       "version_major": 2,
       "version_minor": 0
      },
      "text/plain": [
       "A Jupyter Widget"
      ]
     },
     "metadata": {},
     "output_type": "display_data"
    }
   ],
   "source": [
    "display(w)"
   ]
  },
  {
   "cell_type": "markdown",
   "metadata": {},
   "source": [
    "## Case Study: Analyse von Daten\n",
    "Eine kurze Fallstudie zur Anwendung von Jupyter Notebooks.\n",
    "\n",
    "Ziel: Vorhersage von Kundenwechselraten anhand eines fiktiven Datensatzes.\n",
    "\n",
    "Analyseschritte:\n",
    "\n",
    "1.) Daten werden aus Exceldatei eingelese  \n",
    "2.) Daten werden vorverarbeitet für Analyse  \n",
    "3.) Daten werden in Trainingsdatensatz (zum Trainieren und Validieren) und Testdatensatz (zum Testen des Modells) aufgeteilt   \n",
    "4.) Modell wird anhand des Trainingsdatensatzes aufgestellt (hier GradientBoost-Klassifier)  \n",
    "5.) Modell wird an Testdatensatz ausprobiert  \n",
    "\n",
    "Zunächst via \n",
    "- \"shallow learning\" (hier: Gradient Boosting), \n",
    "- dann mit \"deep learning\" (hier: relativ einfaches Neuronales Netzwerk)"
   ]
  },
  {
   "cell_type": "markdown",
   "metadata": {},
   "source": [
    "### (1) Daten werden eingelesen "
   ]
  },
  {
   "cell_type": "code",
   "execution_count": 204,
   "metadata": {
    "collapsed": true
   },
   "outputs": [],
   "source": [
    "import pandas as pd\n",
    "import numpy as np\n",
    "import matplotlib.pyplot as plt\n",
    "%matplotlib inline\n",
    "plt.style.use('seaborn')"
   ]
  },
  {
   "cell_type": "code",
   "execution_count": 205,
   "metadata": {},
   "outputs": [
    {
     "data": {
      "text/plain": [
       "(3333, 18)"
      ]
     },
     "execution_count": 205,
     "metadata": {},
     "output_type": "execute_result"
    }
   ],
   "source": [
    "file = \"Churn_Data.xls\"\n",
    "df = pd.read_excel(file)\n",
    "df.shape"
   ]
  },
  {
   "cell_type": "code",
   "execution_count": 264,
   "metadata": {},
   "outputs": [
    {
     "data": {
      "text/html": [
       "<div>\n",
       "<style scoped>\n",
       "    .dataframe tbody tr th:only-of-type {\n",
       "        vertical-align: middle;\n",
       "    }\n",
       "\n",
       "    .dataframe tbody tr th {\n",
       "        vertical-align: top;\n",
       "    }\n",
       "\n",
       "    .dataframe thead th {\n",
       "        text-align: right;\n",
       "    }\n",
       "</style>\n",
       "<table border=\"1\" class=\"dataframe\">\n",
       "  <thead>\n",
       "    <tr style=\"text-align: right;\">\n",
       "      <th></th>\n",
       "      <th>Churn</th>\n",
       "      <th>Account Length</th>\n",
       "      <th>VMail Message</th>\n",
       "      <th>Day Mins</th>\n",
       "      <th>Eve Mins</th>\n",
       "      <th>Night Mins</th>\n",
       "      <th>Intl Mins</th>\n",
       "      <th>CustServ Calls</th>\n",
       "      <th>Day Calls</th>\n",
       "      <th>Day Charge</th>\n",
       "      <th>Eve Calls</th>\n",
       "      <th>Eve Charge</th>\n",
       "      <th>Night Calls</th>\n",
       "      <th>Night Charge</th>\n",
       "      <th>Intl Calls</th>\n",
       "      <th>Intl Charge</th>\n",
       "      <th>Area Code</th>\n",
       "      <th>Phone</th>\n",
       "    </tr>\n",
       "  </thead>\n",
       "  <tbody>\n",
       "    <tr>\n",
       "      <th>0</th>\n",
       "      <td>No</td>\n",
       "      <td>128</td>\n",
       "      <td>25</td>\n",
       "      <td>265.1</td>\n",
       "      <td>197.4</td>\n",
       "      <td>244.7</td>\n",
       "      <td>10.0</td>\n",
       "      <td>1</td>\n",
       "      <td>110</td>\n",
       "      <td>45.07</td>\n",
       "      <td>99</td>\n",
       "      <td>16.78</td>\n",
       "      <td>91</td>\n",
       "      <td>11.01</td>\n",
       "      <td>3</td>\n",
       "      <td>2.70</td>\n",
       "      <td>415</td>\n",
       "      <td>382-4657</td>\n",
       "    </tr>\n",
       "    <tr>\n",
       "      <th>1</th>\n",
       "      <td>No</td>\n",
       "      <td>107</td>\n",
       "      <td>26</td>\n",
       "      <td>161.6</td>\n",
       "      <td>195.5</td>\n",
       "      <td>254.4</td>\n",
       "      <td>13.7</td>\n",
       "      <td>1</td>\n",
       "      <td>123</td>\n",
       "      <td>27.47</td>\n",
       "      <td>103</td>\n",
       "      <td>16.62</td>\n",
       "      <td>103</td>\n",
       "      <td>11.45</td>\n",
       "      <td>3</td>\n",
       "      <td>3.70</td>\n",
       "      <td>415</td>\n",
       "      <td>371-7191</td>\n",
       "    </tr>\n",
       "    <tr>\n",
       "      <th>2</th>\n",
       "      <td>No</td>\n",
       "      <td>137</td>\n",
       "      <td>0</td>\n",
       "      <td>243.4</td>\n",
       "      <td>121.2</td>\n",
       "      <td>162.6</td>\n",
       "      <td>12.2</td>\n",
       "      <td>0</td>\n",
       "      <td>114</td>\n",
       "      <td>41.38</td>\n",
       "      <td>110</td>\n",
       "      <td>10.30</td>\n",
       "      <td>104</td>\n",
       "      <td>7.32</td>\n",
       "      <td>5</td>\n",
       "      <td>3.29</td>\n",
       "      <td>415</td>\n",
       "      <td>358-1921</td>\n",
       "    </tr>\n",
       "    <tr>\n",
       "      <th>3</th>\n",
       "      <td>No</td>\n",
       "      <td>84</td>\n",
       "      <td>0</td>\n",
       "      <td>299.4</td>\n",
       "      <td>61.9</td>\n",
       "      <td>196.9</td>\n",
       "      <td>6.6</td>\n",
       "      <td>2</td>\n",
       "      <td>71</td>\n",
       "      <td>50.90</td>\n",
       "      <td>88</td>\n",
       "      <td>5.26</td>\n",
       "      <td>89</td>\n",
       "      <td>8.86</td>\n",
       "      <td>7</td>\n",
       "      <td>1.78</td>\n",
       "      <td>408</td>\n",
       "      <td>375-9999</td>\n",
       "    </tr>\n",
       "    <tr>\n",
       "      <th>4</th>\n",
       "      <td>No</td>\n",
       "      <td>75</td>\n",
       "      <td>0</td>\n",
       "      <td>166.7</td>\n",
       "      <td>148.3</td>\n",
       "      <td>186.9</td>\n",
       "      <td>10.1</td>\n",
       "      <td>3</td>\n",
       "      <td>113</td>\n",
       "      <td>28.34</td>\n",
       "      <td>122</td>\n",
       "      <td>12.61</td>\n",
       "      <td>121</td>\n",
       "      <td>8.41</td>\n",
       "      <td>3</td>\n",
       "      <td>2.73</td>\n",
       "      <td>415</td>\n",
       "      <td>330-6626</td>\n",
       "    </tr>\n",
       "  </tbody>\n",
       "</table>\n",
       "</div>"
      ],
      "text/plain": [
       "  Churn  Account Length  VMail Message  Day Mins  Eve Mins  Night Mins  \\\n",
       "0    No             128             25     265.1     197.4       244.7   \n",
       "1    No             107             26     161.6     195.5       254.4   \n",
       "2    No             137              0     243.4     121.2       162.6   \n",
       "3    No              84              0     299.4      61.9       196.9   \n",
       "4    No              75              0     166.7     148.3       186.9   \n",
       "\n",
       "   Intl Mins  CustServ Calls  Day Calls  Day Charge  Eve Calls  Eve Charge  \\\n",
       "0       10.0               1        110       45.07         99       16.78   \n",
       "1       13.7               1        123       27.47        103       16.62   \n",
       "2       12.2               0        114       41.38        110       10.30   \n",
       "3        6.6               2         71       50.90         88        5.26   \n",
       "4       10.1               3        113       28.34        122       12.61   \n",
       "\n",
       "   Night Calls  Night Charge  Intl Calls  Intl Charge  Area Code     Phone  \n",
       "0           91         11.01           3         2.70        415  382-4657  \n",
       "1          103         11.45           3         3.70        415  371-7191  \n",
       "2          104          7.32           5         3.29        415  358-1921  \n",
       "3           89          8.86           7         1.78        408  375-9999  \n",
       "4          121          8.41           3         2.73        415  330-6626  "
      ]
     },
     "execution_count": 264,
     "metadata": {},
     "output_type": "execute_result"
    }
   ],
   "source": [
    "df.head() # Ersten 5 Zeilen des Datensatzes"
   ]
  },
  {
   "cell_type": "markdown",
   "metadata": {},
   "source": [
    "### (2) Daten werden vorverarbeitet\n",
    "- x und y definieren\n",
    "- Standardisieren (Durchschnitt = 0, Standardabweichung = 1)"
   ]
  },
  {
   "cell_type": "code",
   "execution_count": 265,
   "metadata": {},
   "outputs": [
    {
     "data": {
      "text/plain": [
       "(3333,)"
      ]
     },
     "execution_count": 265,
     "metadata": {},
     "output_type": "execute_result"
    }
   ],
   "source": [
    "y = df[\"Churn\"]\n",
    "y = np.where(y == \"No\",0,1)\n",
    "y.shape"
   ]
  },
  {
   "cell_type": "code",
   "execution_count": 266,
   "metadata": {
    "collapsed": true
   },
   "outputs": [],
   "source": [
    "X = df.iloc[:,1:-1]\n",
    "X = np.array(X)"
   ]
  },
  {
   "cell_type": "code",
   "execution_count": 267,
   "metadata": {},
   "outputs": [
    {
     "data": {
      "text/plain": [
       "(3333, 16)"
      ]
     },
     "execution_count": 267,
     "metadata": {},
     "output_type": "execute_result"
    }
   ],
   "source": [
    "X_scaled = (X - X.mean(axis=0)) / X.std(axis=0)\n",
    "X_scaled.shape"
   ]
  },
  {
   "cell_type": "code",
   "execution_count": 268,
   "metadata": {},
   "outputs": [
    {
     "data": {
      "text/plain": [
       "(3333, 16)"
      ]
     },
     "execution_count": 268,
     "metadata": {},
     "output_type": "execute_result"
    }
   ],
   "source": [
    "X_scaled.shape"
   ]
  },
  {
   "cell_type": "code",
   "execution_count": 269,
   "metadata": {},
   "outputs": [
    {
     "data": {
      "text/plain": [
       "array([  1.47097056e-16,   7.03507659e-17,   7.31221597e-16,\n",
       "        -6.82189245e-17,   7.88781315e-17,  -3.33633178e-16,\n",
       "         8.52736557e-18,  -1.93464606e-16,  -2.83534905e-16,\n",
       "         3.28836535e-16,   1.38569690e-16,  -4.90323520e-17,\n",
       "        -4.37027485e-17,  -8.52736557e-18,   2.72875698e-16,\n",
       "         4.22104596e-16])"
      ]
     },
     "execution_count": 269,
     "metadata": {},
     "output_type": "execute_result"
    }
   ],
   "source": [
    "X_scaled.mean(axis=0)"
   ]
  },
  {
   "cell_type": "code",
   "execution_count": 270,
   "metadata": {},
   "outputs": [
    {
     "data": {
      "text/plain": [
       "array([ 1.,  1.,  1.,  1.,  1.,  1.,  1.,  1.,  1.,  1.,  1.,  1.,  1.,\n",
       "        1.,  1.,  1.])"
      ]
     },
     "execution_count": 270,
     "metadata": {},
     "output_type": "execute_result"
    }
   ],
   "source": [
    "X_scaled.std(axis=0)"
   ]
  },
  {
   "cell_type": "markdown",
   "metadata": {},
   "source": [
    "### (3) Einteilen in Trainings- und Validierungsset und Testset"
   ]
  },
  {
   "cell_type": "code",
   "execution_count": 271,
   "metadata": {
    "collapsed": true
   },
   "outputs": [],
   "source": [
    "from sklearn.model_selection import train_test_split"
   ]
  },
  {
   "cell_type": "code",
   "execution_count": 272,
   "metadata": {
    "collapsed": true
   },
   "outputs": [],
   "source": [
    "X_train,X_test,Y_train,Y_test = train_test_split(X_scaled,y,test_size=0.33)"
   ]
  },
  {
   "cell_type": "markdown",
   "metadata": {},
   "source": [
    "### (4) Aufstellen eines Modelles"
   ]
  },
  {
   "cell_type": "code",
   "execution_count": 273,
   "metadata": {
    "collapsed": true
   },
   "outputs": [],
   "source": [
    "from sklearn.model_selection import cross_val_score\n",
    "from sklearn.ensemble import GradientBoostingClassifier\n",
    "from sklearn.metrics import accuracy_score,classification_report, confusion_matrix"
   ]
  },
  {
   "cell_type": "code",
   "execution_count": 274,
   "metadata": {},
   "outputs": [],
   "source": [
    "model = GradientBoostingClassifier(learning_rate=0.2,n_estimators=1000)\n",
    "cv = cross_val_score(model,X_train,Y_train,scoring='accuracy')"
   ]
  },
  {
   "cell_type": "code",
   "execution_count": 275,
   "metadata": {},
   "outputs": [
    {
     "name": "stdout",
     "output_type": "stream",
     "text": [
      "\n",
      "Das Model hat eine Genauigkeit von\n",
      "\n",
      "0.913118520122\n",
      "\n",
      "(Trainings- und Validierungsset)\n",
      "\n",
      "\n"
     ]
    }
   ],
   "source": [
    "text=\"\"\"\n",
    "Das Model hat eine Genauigkeit von\n",
    "\n",
    "%s\n",
    "\n",
    "(Trainings- und Validierungsset)\n",
    "\n",
    "\"\"\"%(np.mean(cv))\n",
    "\n",
    "print(text)"
   ]
  },
  {
   "cell_type": "code",
   "execution_count": 276,
   "metadata": {},
   "outputs": [
    {
     "name": "stdout",
     "output_type": "stream",
     "text": [
      "             precision    recall  f1-score   support\n",
      "\n",
      "          0       0.92      0.98      0.95       932\n",
      "          1       0.83      0.55      0.66       168\n",
      "\n",
      "avg / total       0.91      0.91      0.91      1100\n",
      "\n"
     ]
    }
   ],
   "source": [
    "model.fit(X_train,Y_train)\n",
    "yhat = model.predict(X_test)\n",
    "print(classification_report(Y_test,yhat))"
   ]
  },
  {
   "cell_type": "code",
   "execution_count": 277,
   "metadata": {},
   "outputs": [
    {
     "name": "stdout",
     "output_type": "stream",
     "text": [
      "[[913  19]\n",
      " [ 76  92]]\n"
     ]
    }
   ],
   "source": [
    "print(confusion_matrix(Y_test,yhat))"
   ]
  },
  {
   "cell_type": "markdown",
   "metadata": {},
   "source": [
    "## Beispiel: Keras Modell"
   ]
  },
  {
   "cell_type": "code",
   "execution_count": 278,
   "metadata": {},
   "outputs": [],
   "source": [
    "from keras import models \n",
    "from keras import layers \n",
    "#from keras import optimizers\n",
    "#from keras import losses\n",
    "#from keras import metrics"
   ]
  },
  {
   "cell_type": "code",
   "execution_count": 279,
   "metadata": {
    "collapsed": true
   },
   "outputs": [],
   "source": [
    "Xtrain, Xtest,Ytrain,Ytest = train_test_split(X_scaled,y,test_size=0.2,random_state=12)\n",
    "Xtrain_train,Xtrain_val,Ytrain_train,Ytrain_val = train_test_split(Xtrain,Ytrain)"
   ]
  },
  {
   "cell_type": "code",
   "execution_count": 280,
   "metadata": {
    "collapsed": true
   },
   "outputs": [],
   "source": [
    "model2 = models.Sequential()\n",
    "model2.add(layers.Dense(100,activation='relu',input_shape=(Xtrain_train.shape[1],)))\n",
    "model2.add(layers.Dense(100,activation='relu'))\n",
    "#model2.add(layers.Dense(50,activation='relu'))\n",
    "model2.add(layers.Dense(1,activation='sigmoid'))\n"
   ]
  },
  {
   "cell_type": "code",
   "execution_count": 281,
   "metadata": {
    "collapsed": true
   },
   "outputs": [],
   "source": [
    "model2.compile(optimizer='rmsprop',\n",
    "             loss='binary_crossentropy',\n",
    "             metrics=['accuracy'])"
   ]
  },
  {
   "cell_type": "code",
   "execution_count": 282,
   "metadata": {},
   "outputs": [
    {
     "name": "stdout",
     "output_type": "stream",
     "text": [
      "Train on 1999 samples, validate on 667 samples\n",
      "Epoch 1/200\n",
      "1999/1999 [==============================] - 0s - loss: 0.5566 - acc: 0.7429 - val_loss: 0.4278 - val_acc: 0.8531\n",
      "Epoch 2/200\n",
      "1999/1999 [==============================] - 0s - loss: 0.4195 - acc: 0.8549 - val_loss: 0.3986 - val_acc: 0.8531\n",
      "Epoch 3/200\n",
      "1999/1999 [==============================] - 0s - loss: 0.3947 - acc: 0.8569 - val_loss: 0.3814 - val_acc: 0.8561\n",
      "Epoch 4/200\n",
      "1999/1999 [==============================] - 0s - loss: 0.3774 - acc: 0.8644 - val_loss: 0.3687 - val_acc: 0.8636\n",
      "Epoch 5/200\n",
      "1999/1999 [==============================] - 0s - loss: 0.3631 - acc: 0.8664 - val_loss: 0.3579 - val_acc: 0.8636\n",
      "Epoch 6/200\n",
      "1999/1999 [==============================] - 0s - loss: 0.3494 - acc: 0.8704 - val_loss: 0.3478 - val_acc: 0.8666\n",
      "Epoch 7/200\n",
      "1999/1999 [==============================] - 0s - loss: 0.3394 - acc: 0.8724 - val_loss: 0.3390 - val_acc: 0.8756\n",
      "Epoch 8/200\n",
      "1999/1999 [==============================] - 0s - loss: 0.3262 - acc: 0.8804 - val_loss: 0.3301 - val_acc: 0.8816\n",
      "Epoch 9/200\n",
      "1999/1999 [==============================] - 0s - loss: 0.3162 - acc: 0.8879 - val_loss: 0.3244 - val_acc: 0.8786\n",
      "Epoch 10/200\n",
      "1999/1999 [==============================] - 0s - loss: 0.3108 - acc: 0.8909 - val_loss: 0.3178 - val_acc: 0.8846\n",
      "Epoch 11/200\n",
      "1999/1999 [==============================] - 0s - loss: 0.2993 - acc: 0.8949 - val_loss: 0.3141 - val_acc: 0.8876\n",
      "Epoch 12/200\n",
      "1999/1999 [==============================] - 0s - loss: 0.2944 - acc: 0.8999 - val_loss: 0.3138 - val_acc: 0.8876\n",
      "Epoch 13/200\n",
      "1999/1999 [==============================] - 0s - loss: 0.2880 - acc: 0.9050 - val_loss: 0.3037 - val_acc: 0.8981\n",
      "Epoch 14/200\n",
      "1999/1999 [==============================] - 0s - loss: 0.2831 - acc: 0.9095 - val_loss: 0.3037 - val_acc: 0.8921\n",
      "Epoch 15/200\n",
      "1999/1999 [==============================] - 0s - loss: 0.2789 - acc: 0.9075 - val_loss: 0.2967 - val_acc: 0.9010\n",
      "Epoch 16/200\n",
      "1999/1999 [==============================] - 0s - loss: 0.2747 - acc: 0.9125 - val_loss: 0.2946 - val_acc: 0.9055\n",
      "Epoch 17/200\n",
      "1999/1999 [==============================] - 0s - loss: 0.2718 - acc: 0.9130 - val_loss: 0.3066 - val_acc: 0.8936\n",
      "Epoch 18/200\n",
      "1999/1999 [==============================] - 0s - loss: 0.2679 - acc: 0.9135 - val_loss: 0.3000 - val_acc: 0.8981\n",
      "Epoch 19/200\n",
      "1999/1999 [==============================] - 0s - loss: 0.2665 - acc: 0.9125 - val_loss: 0.2908 - val_acc: 0.9010\n",
      "Epoch 20/200\n",
      "1999/1999 [==============================] - 0s - loss: 0.2607 - acc: 0.9170 - val_loss: 0.2904 - val_acc: 0.9040\n",
      "Epoch 21/200\n",
      "1999/1999 [==============================] - 0s - loss: 0.2591 - acc: 0.9190 - val_loss: 0.2909 - val_acc: 0.9040\n",
      "Epoch 22/200\n",
      "1999/1999 [==============================] - 0s - loss: 0.2549 - acc: 0.9185 - val_loss: 0.2965 - val_acc: 0.9040\n",
      "Epoch 23/200\n",
      "1999/1999 [==============================] - 0s - loss: 0.2537 - acc: 0.9135 - val_loss: 0.2846 - val_acc: 0.8981\n",
      "Epoch 24/200\n",
      "1999/1999 [==============================] - 0s - loss: 0.2497 - acc: 0.9210 - val_loss: 0.2895 - val_acc: 0.8996\n",
      "Epoch 25/200\n",
      "1999/1999 [==============================] - 0s - loss: 0.2463 - acc: 0.9200 - val_loss: 0.2843 - val_acc: 0.9040\n",
      "Epoch 26/200\n",
      "1999/1999 [==============================] - 0s - loss: 0.2446 - acc: 0.9195 - val_loss: 0.2819 - val_acc: 0.9010\n",
      "Epoch 27/200\n",
      "1999/1999 [==============================] - 0s - loss: 0.2429 - acc: 0.9235 - val_loss: 0.2863 - val_acc: 0.9085\n",
      "Epoch 28/200\n",
      "1999/1999 [==============================] - ETA: 0s - loss: 0.2261 - acc: 0.940 - 0s - loss: 0.2384 - acc: 0.9250 - val_loss: 0.2820 - val_acc: 0.9025\n",
      "Epoch 29/200\n",
      "1999/1999 [==============================] - 0s - loss: 0.2410 - acc: 0.9245 - val_loss: 0.2812 - val_acc: 0.9010\n",
      "Epoch 30/200\n",
      "1999/1999 [==============================] - 0s - loss: 0.2327 - acc: 0.9265 - val_loss: 0.2843 - val_acc: 0.9100\n",
      "Epoch 31/200\n",
      "1999/1999 [==============================] - 0s - loss: 0.2299 - acc: 0.9285 - val_loss: 0.2792 - val_acc: 0.9040\n",
      "Epoch 32/200\n",
      "1999/1999 [==============================] - 0s - loss: 0.2293 - acc: 0.9285 - val_loss: 0.2793 - val_acc: 0.9100\n",
      "Epoch 33/200\n",
      "1999/1999 [==============================] - 0s - loss: 0.2263 - acc: 0.9315 - val_loss: 0.2888 - val_acc: 0.9100\n",
      "Epoch 34/200\n",
      "1999/1999 [==============================] - 0s - loss: 0.2285 - acc: 0.9315 - val_loss: 0.2822 - val_acc: 0.9085\n",
      "Epoch 35/200\n",
      "1999/1999 [==============================] - ETA: 0s - loss: 0.2239 - acc: 0.916 - 0s - loss: 0.2224 - acc: 0.9305 - val_loss: 0.2835 - val_acc: 0.9115\n",
      "Epoch 36/200\n",
      "1999/1999 [==============================] - 0s - loss: 0.2210 - acc: 0.9295 - val_loss: 0.2789 - val_acc: 0.9070\n",
      "Epoch 37/200\n",
      "1999/1999 [==============================] - 0s - loss: 0.2184 - acc: 0.9320 - val_loss: 0.2821 - val_acc: 0.9115\n",
      "Epoch 38/200\n",
      "1999/1999 [==============================] - 0s - loss: 0.2162 - acc: 0.9310 - val_loss: 0.2759 - val_acc: 0.9040\n",
      "Epoch 39/200\n",
      "1999/1999 [==============================] - 0s - loss: 0.2155 - acc: 0.9305 - val_loss: 0.2936 - val_acc: 0.9055\n",
      "Epoch 40/200\n",
      "1999/1999 [==============================] - 0s - loss: 0.2130 - acc: 0.9325 - val_loss: 0.2777 - val_acc: 0.9130\n",
      "Epoch 41/200\n",
      "1999/1999 [==============================] - 0s - loss: 0.2093 - acc: 0.9335 - val_loss: 0.2764 - val_acc: 0.8966\n",
      "Epoch 42/200\n",
      "1999/1999 [==============================] - 0s - loss: 0.2110 - acc: 0.9335 - val_loss: 0.2788 - val_acc: 0.9085\n",
      "Epoch 43/200\n",
      "1999/1999 [==============================] - 0s - loss: 0.2062 - acc: 0.9355 - val_loss: 0.2752 - val_acc: 0.9040\n",
      "Epoch 44/200\n",
      "1999/1999 [==============================] - 0s - loss: 0.2042 - acc: 0.9370 - val_loss: 0.2786 - val_acc: 0.9100\n",
      "Epoch 45/200\n",
      "1999/1999 [==============================] - 0s - loss: 0.2035 - acc: 0.9365 - val_loss: 0.2768 - val_acc: 0.9070\n",
      "Epoch 46/200\n",
      "1999/1999 [==============================] - 0s - loss: 0.2021 - acc: 0.9375 - val_loss: 0.2821 - val_acc: 0.9145\n",
      "Epoch 47/200\n",
      "1999/1999 [==============================] - 0s - loss: 0.1982 - acc: 0.9335 - val_loss: 0.2762 - val_acc: 0.8996\n",
      "Epoch 48/200\n",
      "1999/1999 [==============================] - 0s - loss: 0.1963 - acc: 0.9355 - val_loss: 0.2731 - val_acc: 0.9055\n",
      "Epoch 49/200\n",
      "1999/1999 [==============================] - 0s - loss: 0.1947 - acc: 0.9375 - val_loss: 0.2774 - val_acc: 0.9070\n",
      "Epoch 50/200\n",
      "1999/1999 [==============================] - 0s - loss: 0.1929 - acc: 0.9360 - val_loss: 0.2743 - val_acc: 0.9040\n",
      "Epoch 51/200\n",
      "1999/1999 [==============================] - 0s - loss: 0.1898 - acc: 0.9390 - val_loss: 0.2739 - val_acc: 0.9055\n",
      "Epoch 52/200\n",
      "1999/1999 [==============================] - 0s - loss: 0.1900 - acc: 0.9370 - val_loss: 0.2742 - val_acc: 0.9010\n",
      "Epoch 53/200\n",
      "1999/1999 [==============================] - 0s - loss: 0.1888 - acc: 0.9405 - val_loss: 0.2797 - val_acc: 0.9040\n",
      "Epoch 54/200\n",
      "1999/1999 [==============================] - 0s - loss: 0.1866 - acc: 0.9370 - val_loss: 0.2758 - val_acc: 0.9085\n",
      "Epoch 55/200\n",
      "1999/1999 [==============================] - 0s - loss: 0.1863 - acc: 0.9400 - val_loss: 0.2824 - val_acc: 0.9070\n",
      "Epoch 56/200\n",
      "1999/1999 [==============================] - 0s - loss: 0.1820 - acc: 0.9430 - val_loss: 0.2762 - val_acc: 0.9025\n",
      "Epoch 57/200\n",
      "1999/1999 [==============================] - 0s - loss: 0.1802 - acc: 0.9435 - val_loss: 0.2766 - val_acc: 0.9085\n",
      "Epoch 58/200\n",
      "1999/1999 [==============================] - ETA: 0s - loss: 0.2155 - acc: 0.926 - 0s - loss: 0.1791 - acc: 0.9415 - val_loss: 0.2807 - val_acc: 0.9115\n",
      "Epoch 59/200\n",
      "1999/1999 [==============================] - 0s - loss: 0.1766 - acc: 0.9435 - val_loss: 0.2787 - val_acc: 0.9040\n",
      "Epoch 60/200\n",
      "1999/1999 [==============================] - 0s - loss: 0.1763 - acc: 0.9405 - val_loss: 0.2721 - val_acc: 0.9025\n",
      "Epoch 61/200\n",
      "1999/1999 [==============================] - ETA: 0s - loss: 0.1433 - acc: 0.970 - 0s - loss: 0.1746 - acc: 0.9460 - val_loss: 0.2913 - val_acc: 0.9085\n",
      "Epoch 62/200\n",
      "1999/1999 [==============================] - 0s - loss: 0.1711 - acc: 0.9450 - val_loss: 0.2751 - val_acc: 0.9010\n",
      "Epoch 63/200\n",
      "1999/1999 [==============================] - 0s - loss: 0.1716 - acc: 0.9495 - val_loss: 0.2895 - val_acc: 0.9085\n",
      "Epoch 64/200\n"
     ]
    },
    {
     "name": "stdout",
     "output_type": "stream",
     "text": [
      "1999/1999 [==============================] - 0s - loss: 0.1700 - acc: 0.9440 - val_loss: 0.2847 - val_acc: 0.9145\n",
      "Epoch 65/200\n",
      "1999/1999 [==============================] - 0s - loss: 0.1680 - acc: 0.9460 - val_loss: 0.2881 - val_acc: 0.9115\n",
      "Epoch 66/200\n",
      "1999/1999 [==============================] - 0s - loss: 0.1672 - acc: 0.9475 - val_loss: 0.2907 - val_acc: 0.9070\n",
      "Epoch 67/200\n",
      "1999/1999 [==============================] - 0s - loss: 0.1649 - acc: 0.9465 - val_loss: 0.2809 - val_acc: 0.9040\n",
      "Epoch 68/200\n",
      "1999/1999 [==============================] - 0s - loss: 0.1657 - acc: 0.9455 - val_loss: 0.2874 - val_acc: 0.9085\n",
      "Epoch 69/200\n",
      "1999/1999 [==============================] - 0s - loss: 0.1606 - acc: 0.9490 - val_loss: 0.2877 - val_acc: 0.9085\n",
      "Epoch 70/200\n",
      "1999/1999 [==============================] - 0s - loss: 0.1651 - acc: 0.9465 - val_loss: 0.2786 - val_acc: 0.8981\n",
      "Epoch 71/200\n",
      "1999/1999 [==============================] - 0s - loss: 0.1579 - acc: 0.9490 - val_loss: 0.2824 - val_acc: 0.9130\n",
      "Epoch 72/200\n",
      "1999/1999 [==============================] - 0s - loss: 0.1583 - acc: 0.9515 - val_loss: 0.2945 - val_acc: 0.9085\n",
      "Epoch 73/200\n",
      "1999/1999 [==============================] - 0s - loss: 0.1583 - acc: 0.9485 - val_loss: 0.2795 - val_acc: 0.9055\n",
      "Epoch 74/200\n",
      "1999/1999 [==============================] - 0s - loss: 0.1533 - acc: 0.9515 - val_loss: 0.2932 - val_acc: 0.9070\n",
      "Epoch 75/200\n",
      "1999/1999 [==============================] - 0s - loss: 0.1522 - acc: 0.9510 - val_loss: 0.2796 - val_acc: 0.8966\n",
      "Epoch 76/200\n",
      "1999/1999 [==============================] - 0s - loss: 0.1559 - acc: 0.9490 - val_loss: 0.2866 - val_acc: 0.9070\n",
      "Epoch 77/200\n",
      "1999/1999 [==============================] - 0s - loss: 0.1510 - acc: 0.9510 - val_loss: 0.2799 - val_acc: 0.9040\n",
      "Epoch 78/200\n",
      "1999/1999 [==============================] - 0s - loss: 0.1473 - acc: 0.9520 - val_loss: 0.3095 - val_acc: 0.9025\n",
      "Epoch 79/200\n",
      "1999/1999 [==============================] - 0s - loss: 0.1493 - acc: 0.9520 - val_loss: 0.2844 - val_acc: 0.9070\n",
      "Epoch 80/200\n",
      "1999/1999 [==============================] - 0s - loss: 0.1463 - acc: 0.9535 - val_loss: 0.2829 - val_acc: 0.8996\n",
      "Epoch 81/200\n",
      "1999/1999 [==============================] - ETA: 0s - loss: 0.1357 - acc: 0.960 - 0s - loss: 0.1444 - acc: 0.9535 - val_loss: 0.2851 - val_acc: 0.9025\n",
      "Epoch 82/200\n",
      "1999/1999 [==============================] - 0s - loss: 0.1442 - acc: 0.9520 - val_loss: 0.2986 - val_acc: 0.9070\n",
      "Epoch 83/200\n",
      "1999/1999 [==============================] - 0s - loss: 0.1444 - acc: 0.9515 - val_loss: 0.2855 - val_acc: 0.9010\n",
      "Epoch 84/200\n",
      "1999/1999 [==============================] - 0s - loss: 0.1402 - acc: 0.9545 - val_loss: 0.2864 - val_acc: 0.8966\n",
      "Epoch 85/200\n",
      "1999/1999 [==============================] - 0s - loss: 0.1395 - acc: 0.9545 - val_loss: 0.3006 - val_acc: 0.9070\n",
      "Epoch 86/200\n",
      "1999/1999 [==============================] - 0s - loss: 0.1386 - acc: 0.9540 - val_loss: 0.2920 - val_acc: 0.9070\n",
      "Epoch 87/200\n",
      "1999/1999 [==============================] - 0s - loss: 0.1350 - acc: 0.9580 - val_loss: 0.2944 - val_acc: 0.9025\n",
      "Epoch 88/200\n",
      "1999/1999 [==============================] - 0s - loss: 0.1353 - acc: 0.9565 - val_loss: 0.3000 - val_acc: 0.9055\n",
      "Epoch 89/200\n",
      "1999/1999 [==============================] - 0s - loss: 0.1351 - acc: 0.9565 - val_loss: 0.2865 - val_acc: 0.8951\n",
      "Epoch 90/200\n",
      "1999/1999 [==============================] - 0s - loss: 0.1304 - acc: 0.9590 - val_loss: 0.2899 - val_acc: 0.9025\n",
      "Epoch 91/200\n",
      "1999/1999 [==============================] - 0s - loss: 0.1327 - acc: 0.9580 - val_loss: 0.2908 - val_acc: 0.8951\n",
      "Epoch 92/200\n",
      "1999/1999 [==============================] - 0s - loss: 0.1304 - acc: 0.9570 - val_loss: 0.2915 - val_acc: 0.9010\n",
      "Epoch 93/200\n",
      "1999/1999 [==============================] - 0s - loss: 0.1295 - acc: 0.9575 - val_loss: 0.2923 - val_acc: 0.9040\n",
      "Epoch 94/200\n",
      "1999/1999 [==============================] - 0s - loss: 0.1262 - acc: 0.9580 - val_loss: 0.3031 - val_acc: 0.9100\n",
      "Epoch 95/200\n",
      "1999/1999 [==============================] - 0s - loss: 0.1268 - acc: 0.9565 - val_loss: 0.3006 - val_acc: 0.9040\n",
      "Epoch 96/200\n",
      "1999/1999 [==============================] - 0s - loss: 0.1222 - acc: 0.9595 - val_loss: 0.3196 - val_acc: 0.9040\n",
      "Epoch 97/200\n",
      "1999/1999 [==============================] - 0s - loss: 0.1276 - acc: 0.9550 - val_loss: 0.2966 - val_acc: 0.8966\n",
      "Epoch 98/200\n",
      "1999/1999 [==============================] - 0s - loss: 0.1237 - acc: 0.9605 - val_loss: 0.2989 - val_acc: 0.9070\n",
      "Epoch 99/200\n",
      "1999/1999 [==============================] - 0s - loss: 0.1206 - acc: 0.9605 - val_loss: 0.2946 - val_acc: 0.9055\n",
      "Epoch 100/200\n",
      "1999/1999 [==============================] - 0s - loss: 0.1204 - acc: 0.9595 - val_loss: 0.2930 - val_acc: 0.8981\n",
      "Epoch 101/200\n",
      "1999/1999 [==============================] - 0s - loss: 0.1219 - acc: 0.9605 - val_loss: 0.3068 - val_acc: 0.9025\n",
      "Epoch 102/200\n",
      "1999/1999 [==============================] - 0s - loss: 0.1160 - acc: 0.9610 - val_loss: 0.2976 - val_acc: 0.8981\n",
      "Epoch 103/200\n",
      "1999/1999 [==============================] - 0s - loss: 0.1183 - acc: 0.9600 - val_loss: 0.2977 - val_acc: 0.8981\n",
      "Epoch 104/200\n",
      "1999/1999 [==============================] - 0s - loss: 0.1175 - acc: 0.9640 - val_loss: 0.3033 - val_acc: 0.9025\n",
      "Epoch 105/200\n",
      "1999/1999 [==============================] - 0s - loss: 0.1136 - acc: 0.9630 - val_loss: 0.2976 - val_acc: 0.8966\n",
      "Epoch 106/200\n",
      "1999/1999 [==============================] - 0s - loss: 0.1127 - acc: 0.9620 - val_loss: 0.3051 - val_acc: 0.8936\n",
      "Epoch 107/200\n",
      "1999/1999 [==============================] - 0s - loss: 0.1111 - acc: 0.9670 - val_loss: 0.3083 - val_acc: 0.8996\n",
      "Epoch 108/200\n",
      "1999/1999 [==============================] - 0s - loss: 0.1098 - acc: 0.9635 - val_loss: 0.3066 - val_acc: 0.8981\n",
      "Epoch 109/200\n",
      "1999/1999 [==============================] - 0s - loss: 0.1097 - acc: 0.9640 - val_loss: 0.3017 - val_acc: 0.8951\n",
      "Epoch 110/200\n",
      "1999/1999 [==============================] - 0s - loss: 0.1105 - acc: 0.9685 - val_loss: 0.3216 - val_acc: 0.9025\n",
      "Epoch 111/200\n",
      "1999/1999 [==============================] - 0s - loss: 0.1062 - acc: 0.9660 - val_loss: 0.3045 - val_acc: 0.9025\n",
      "Epoch 112/200\n",
      "1999/1999 [==============================] - 0s - loss: 0.1058 - acc: 0.9675 - val_loss: 0.3120 - val_acc: 0.8981\n",
      "Epoch 113/200\n",
      "1999/1999 [==============================] - 0s - loss: 0.1034 - acc: 0.9660 - val_loss: 0.3207 - val_acc: 0.9025\n",
      "Epoch 114/200\n",
      "1999/1999 [==============================] - 0s - loss: 0.1036 - acc: 0.9650 - val_loss: 0.3191 - val_acc: 0.9010\n",
      "Epoch 115/200\n",
      "1999/1999 [==============================] - 0s - loss: 0.1018 - acc: 0.9705 - val_loss: 0.3119 - val_acc: 0.9010\n",
      "Epoch 116/200\n",
      "1999/1999 [==============================] - 0s - loss: 0.1057 - acc: 0.9660 - val_loss: 0.3312 - val_acc: 0.9040\n",
      "Epoch 117/200\n",
      "1999/1999 [==============================] - 0s - loss: 0.0995 - acc: 0.9670 - val_loss: 0.3183 - val_acc: 0.8996\n",
      "Epoch 118/200\n",
      "1999/1999 [==============================] - 0s - loss: 0.0971 - acc: 0.9685 - val_loss: 0.3315 - val_acc: 0.9010\n",
      "Epoch 119/200\n",
      "1999/1999 [==============================] - 0s - loss: 0.0962 - acc: 0.9720 - val_loss: 0.3187 - val_acc: 0.8966\n",
      "Epoch 120/200\n",
      "1999/1999 [==============================] - 0s - loss: 0.0979 - acc: 0.9695 - val_loss: 0.3153 - val_acc: 0.8981\n",
      "Epoch 121/200\n",
      "1999/1999 [==============================] - 0s - loss: 0.0943 - acc: 0.9715 - val_loss: 0.3160 - val_acc: 0.8951\n",
      "Epoch 122/200\n",
      "1999/1999 [==============================] - 0s - loss: 0.0950 - acc: 0.9715 - val_loss: 0.3275 - val_acc: 0.9010\n",
      "Epoch 123/200\n",
      "1999/1999 [==============================] - 0s - loss: 0.0983 - acc: 0.9680 - val_loss: 0.3344 - val_acc: 0.9025\n",
      "Epoch 124/200\n",
      "1999/1999 [==============================] - 0s - loss: 0.0926 - acc: 0.9700 - val_loss: 0.3226 - val_acc: 0.8921\n",
      "Epoch 125/200\n",
      "1999/1999 [==============================] - 0s - loss: 0.0893 - acc: 0.9725 - val_loss: 0.3265 - val_acc: 0.8816\n",
      "Epoch 126/200\n",
      "1999/1999 [==============================] - 0s - loss: 0.0940 - acc: 0.9760 - val_loss: 0.3375 - val_acc: 0.8996\n",
      "Epoch 127/200\n",
      "1999/1999 [==============================] - 0s - loss: 0.0883 - acc: 0.9735 - val_loss: 0.3304 - val_acc: 0.8966\n",
      "Epoch 128/200\n"
     ]
    },
    {
     "name": "stdout",
     "output_type": "stream",
     "text": [
      "1999/1999 [==============================] - 0s - loss: 0.0881 - acc: 0.9750 - val_loss: 0.3276 - val_acc: 0.8996\n",
      "Epoch 129/200\n",
      "1999/1999 [==============================] - 0s - loss: 0.0887 - acc: 0.9720 - val_loss: 0.3253 - val_acc: 0.8936\n",
      "Epoch 130/200\n",
      "1999/1999 [==============================] - 0s - loss: 0.0855 - acc: 0.9730 - val_loss: 0.3259 - val_acc: 0.8996\n",
      "Epoch 131/200\n",
      "1999/1999 [==============================] - 0s - loss: 0.0839 - acc: 0.9755 - val_loss: 0.3237 - val_acc: 0.8966\n",
      "Epoch 132/200\n",
      "1999/1999 [==============================] - 0s - loss: 0.0848 - acc: 0.9755 - val_loss: 0.3343 - val_acc: 0.8966\n",
      "Epoch 133/200\n",
      "1999/1999 [==============================] - 0s - loss: 0.0846 - acc: 0.9750 - val_loss: 0.3336 - val_acc: 0.8981\n",
      "Epoch 134/200\n",
      "1999/1999 [==============================] - 0s - loss: 0.0844 - acc: 0.9745 - val_loss: 0.3250 - val_acc: 0.8996\n",
      "Epoch 135/200\n",
      "1999/1999 [==============================] - 0s - loss: 0.0798 - acc: 0.9795 - val_loss: 0.3403 - val_acc: 0.8966\n",
      "Epoch 136/200\n",
      "1999/1999 [==============================] - 0s - loss: 0.0867 - acc: 0.9720 - val_loss: 0.3713 - val_acc: 0.9070\n",
      "Epoch 137/200\n",
      "1999/1999 [==============================] - 0s - loss: 0.0784 - acc: 0.9770 - val_loss: 0.3338 - val_acc: 0.8966\n",
      "Epoch 138/200\n",
      "1999/1999 [==============================] - 0s - loss: 0.0768 - acc: 0.9815 - val_loss: 0.3592 - val_acc: 0.9010\n",
      "Epoch 139/200\n",
      "1999/1999 [==============================] - 0s - loss: 0.0860 - acc: 0.9740 - val_loss: 0.3424 - val_acc: 0.8966\n",
      "Epoch 140/200\n",
      "1999/1999 [==============================] - 0s - loss: 0.0763 - acc: 0.9775 - val_loss: 0.3435 - val_acc: 0.8876\n",
      "Epoch 141/200\n",
      "1999/1999 [==============================] - 0s - loss: 0.0747 - acc: 0.9815 - val_loss: 0.3424 - val_acc: 0.8951\n",
      "Epoch 142/200\n",
      "1999/1999 [==============================] - 0s - loss: 0.0786 - acc: 0.9785 - val_loss: 0.3411 - val_acc: 0.8936\n",
      "Epoch 143/200\n",
      "1999/1999 [==============================] - 0s - loss: 0.0729 - acc: 0.9815 - val_loss: 0.3425 - val_acc: 0.8921\n",
      "Epoch 144/200\n",
      "1999/1999 [==============================] - 0s - loss: 0.0782 - acc: 0.9765 - val_loss: 0.3403 - val_acc: 0.8921\n",
      "Epoch 145/200\n",
      "1999/1999 [==============================] - 0s - loss: 0.0720 - acc: 0.9830 - val_loss: 0.3442 - val_acc: 0.8936\n",
      "Epoch 146/200\n",
      "1999/1999 [==============================] - 0s - loss: 0.0720 - acc: 0.9800 - val_loss: 0.3564 - val_acc: 0.9025\n",
      "Epoch 147/200\n",
      "1999/1999 [==============================] - 0s - loss: 0.0717 - acc: 0.9820 - val_loss: 0.3411 - val_acc: 0.8861\n",
      "Epoch 148/200\n",
      "1999/1999 [==============================] - 0s - loss: 0.0738 - acc: 0.9810 - val_loss: 0.3507 - val_acc: 0.8921\n",
      "Epoch 149/200\n",
      "1999/1999 [==============================] - 0s - loss: 0.0684 - acc: 0.9835 - val_loss: 0.3577 - val_acc: 0.8996\n",
      "Epoch 150/200\n",
      "1999/1999 [==============================] - 0s - loss: 0.0734 - acc: 0.9805 - val_loss: 0.3521 - val_acc: 0.8951\n",
      "Epoch 151/200\n",
      "1999/1999 [==============================] - 0s - loss: 0.0678 - acc: 0.9840 - val_loss: 0.3432 - val_acc: 0.8936\n",
      "Epoch 152/200\n",
      "1999/1999 [==============================] - 0s - loss: 0.0646 - acc: 0.9840 - val_loss: 0.3658 - val_acc: 0.9040\n",
      "Epoch 153/200\n",
      "1999/1999 [==============================] - 0s - loss: 0.0698 - acc: 0.9830 - val_loss: 0.3838 - val_acc: 0.9055\n",
      "Epoch 154/200\n",
      "1999/1999 [==============================] - 0s - loss: 0.0647 - acc: 0.9825 - val_loss: 0.3652 - val_acc: 0.9040\n",
      "Epoch 155/200\n",
      "1999/1999 [==============================] - 0s - loss: 0.0647 - acc: 0.9830 - val_loss: 0.3661 - val_acc: 0.8981\n",
      "Epoch 156/200\n",
      "1999/1999 [==============================] - 0s - loss: 0.0632 - acc: 0.9835 - val_loss: 0.3629 - val_acc: 0.8981\n",
      "Epoch 157/200\n",
      "1999/1999 [==============================] - 0s - loss: 0.0597 - acc: 0.9875 - val_loss: 0.3865 - val_acc: 0.9025\n",
      "Epoch 158/200\n",
      "1999/1999 [==============================] - 0s - loss: 0.0683 - acc: 0.9805 - val_loss: 0.3595 - val_acc: 0.8861\n",
      "Epoch 159/200\n",
      "1999/1999 [==============================] - 0s - loss: 0.0598 - acc: 0.9860 - val_loss: 0.3859 - val_acc: 0.9010\n",
      "Epoch 160/200\n",
      "1999/1999 [==============================] - 0s - loss: 0.0606 - acc: 0.9865 - val_loss: 0.3657 - val_acc: 0.8966\n",
      "Epoch 161/200\n",
      "1999/1999 [==============================] - 0s - loss: 0.0611 - acc: 0.9830 - val_loss: 0.3727 - val_acc: 0.8951\n",
      "Epoch 162/200\n",
      "1999/1999 [==============================] - 0s - loss: 0.0574 - acc: 0.9870 - val_loss: 0.3615 - val_acc: 0.8891\n",
      "Epoch 163/200\n",
      "1999/1999 [==============================] - 0s - loss: 0.0567 - acc: 0.9870 - val_loss: 0.3700 - val_acc: 0.8876\n",
      "Epoch 164/200\n",
      "1999/1999 [==============================] - 0s - loss: 0.0582 - acc: 0.9850 - val_loss: 0.3655 - val_acc: 0.8981\n",
      "Epoch 165/200\n",
      "1999/1999 [==============================] - 0s - loss: 0.0578 - acc: 0.9855 - val_loss: 0.3800 - val_acc: 0.8996\n",
      "Epoch 166/200\n",
      "1999/1999 [==============================] - 0s - loss: 0.0552 - acc: 0.9880 - val_loss: 0.3879 - val_acc: 0.9025\n",
      "Epoch 167/200\n",
      "1999/1999 [==============================] - 0s - loss: 0.0544 - acc: 0.9870 - val_loss: 0.3942 - val_acc: 0.9010\n",
      "Epoch 168/200\n",
      "1999/1999 [==============================] - 0s - loss: 0.0521 - acc: 0.9880 - val_loss: 0.3704 - val_acc: 0.9010\n",
      "Epoch 169/200\n",
      "1999/1999 [==============================] - 0s - loss: 0.0546 - acc: 0.9870 - val_loss: 0.4189 - val_acc: 0.9010\n",
      "Epoch 170/200\n",
      "1999/1999 [==============================] - 0s - loss: 0.0557 - acc: 0.9860 - val_loss: 0.3714 - val_acc: 0.8891\n",
      "Epoch 171/200\n",
      "1999/1999 [==============================] - 0s - loss: 0.0546 - acc: 0.9865 - val_loss: 0.4240 - val_acc: 0.9025\n",
      "Epoch 172/200\n",
      "1999/1999 [==============================] - 0s - loss: 0.0505 - acc: 0.9895 - val_loss: 0.3909 - val_acc: 0.9010\n",
      "Epoch 173/200\n",
      "1999/1999 [==============================] - 0s - loss: 0.0487 - acc: 0.9885 - val_loss: 0.3895 - val_acc: 0.8981\n",
      "Epoch 174/200\n",
      "1999/1999 [==============================] - 0s - loss: 0.0517 - acc: 0.9870 - val_loss: 0.3896 - val_acc: 0.8966\n",
      "Epoch 175/200\n",
      "1999/1999 [==============================] - 0s - loss: 0.0471 - acc: 0.9885 - val_loss: 0.3762 - val_acc: 0.8906\n",
      "Epoch 176/200\n",
      "1999/1999 [==============================] - 0s - loss: 0.0499 - acc: 0.9885 - val_loss: 0.3997 - val_acc: 0.8891\n",
      "Epoch 177/200\n",
      "1999/1999 [==============================] - 0s - loss: 0.0508 - acc: 0.9885 - val_loss: 0.3787 - val_acc: 0.8981\n",
      "Epoch 178/200\n",
      "1999/1999 [==============================] - 0s - loss: 0.0440 - acc: 0.9895 - val_loss: 0.3774 - val_acc: 0.8861\n",
      "Epoch 179/200\n",
      "1999/1999 [==============================] - 0s - loss: 0.0510 - acc: 0.9870 - val_loss: 0.4264 - val_acc: 0.9025\n",
      "Epoch 180/200\n",
      "1999/1999 [==============================] - 0s - loss: 0.0456 - acc: 0.9885 - val_loss: 0.3852 - val_acc: 0.8981\n",
      "Epoch 181/200\n",
      "1999/1999 [==============================] - 0s - loss: 0.0430 - acc: 0.9900 - val_loss: 0.3888 - val_acc: 0.8891\n",
      "Epoch 182/200\n",
      "1999/1999 [==============================] - 0s - loss: 0.0424 - acc: 0.9910 - val_loss: 0.4142 - val_acc: 0.9010\n",
      "Epoch 183/200\n",
      "1999/1999 [==============================] - 0s - loss: 0.0496 - acc: 0.9880 - val_loss: 0.3936 - val_acc: 0.8861\n",
      "Epoch 184/200\n",
      "1999/1999 [==============================] - 0s - loss: 0.0454 - acc: 0.9895 - val_loss: 0.3995 - val_acc: 0.9040\n",
      "Epoch 185/200\n",
      "1999/1999 [==============================] - 0s - loss: 0.0412 - acc: 0.9920 - val_loss: 0.4075 - val_acc: 0.8996\n",
      "Epoch 186/200\n",
      "1999/1999 [==============================] - 0s - loss: 0.0410 - acc: 0.9905 - val_loss: 0.3987 - val_acc: 0.8981\n",
      "Epoch 187/200\n",
      "1999/1999 [==============================] - 0s - loss: 0.0450 - acc: 0.9890 - val_loss: 0.3894 - val_acc: 0.8876\n",
      "Epoch 188/200\n",
      "1999/1999 [==============================] - 0s - loss: 0.0398 - acc: 0.9905 - val_loss: 0.3930 - val_acc: 0.8876\n",
      "Epoch 189/200\n",
      "1999/1999 [==============================] - 0s - loss: 0.0403 - acc: 0.9920 - val_loss: 0.3950 - val_acc: 0.8891\n",
      "Epoch 190/200\n",
      "1999/1999 [==============================] - 0s - loss: 0.0382 - acc: 0.9935 - val_loss: 0.4029 - val_acc: 0.8921\n",
      "Epoch 191/200\n",
      "1999/1999 [==============================] - 0s - loss: 0.0395 - acc: 0.9925 - val_loss: 0.4524 - val_acc: 0.8936\n",
      "Epoch 192/200\n"
     ]
    },
    {
     "name": "stdout",
     "output_type": "stream",
     "text": [
      "1999/1999 [==============================] - 0s - loss: 0.0383 - acc: 0.9925 - val_loss: 0.3992 - val_acc: 0.8891\n",
      "Epoch 193/200\n",
      "1999/1999 [==============================] - 0s - loss: 0.0351 - acc: 0.9925 - val_loss: 0.4077 - val_acc: 0.8876\n",
      "Epoch 194/200\n",
      "1999/1999 [==============================] - 0s - loss: 0.0441 - acc: 0.9925 - val_loss: 0.4296 - val_acc: 0.8966\n",
      "Epoch 195/200\n",
      "1999/1999 [==============================] - 0s - loss: 0.0360 - acc: 0.9940 - val_loss: 0.4157 - val_acc: 0.8996\n",
      "Epoch 196/200\n",
      "1999/1999 [==============================] - 0s - loss: 0.0341 - acc: 0.9935 - val_loss: 0.4175 - val_acc: 0.8876\n",
      "Epoch 197/200\n",
      "1999/1999 [==============================] - 0s - loss: 0.0381 - acc: 0.9935 - val_loss: 0.4399 - val_acc: 0.8996\n",
      "Epoch 198/200\n",
      "1999/1999 [==============================] - 0s - loss: 0.0352 - acc: 0.9940 - val_loss: 0.4300 - val_acc: 0.8951\n",
      "Epoch 199/200\n",
      "1999/1999 [==============================] - 0s - loss: 0.0328 - acc: 0.9955 - val_loss: 0.4386 - val_acc: 0.9025\n",
      "Epoch 200/200\n",
      "1999/1999 [==============================] - 0s - loss: 0.0353 - acc: 0.9945 - val_loss: 0.4586 - val_acc: 0.9010\n"
     ]
    }
   ],
   "source": [
    "history = model2.fit(Xtrain_train,Ytrain_train,epochs=200,batch_size=300,validation_data=(Xtrain_val,Ytrain_val));"
   ]
  },
  {
   "cell_type": "code",
   "execution_count": 283,
   "metadata": {
    "collapsed": true
   },
   "outputs": [],
   "source": [
    "acc = history.history[\"acc\"]\n",
    "acc_val = history.history[\"val_acc\"]"
   ]
  },
  {
   "cell_type": "code",
   "execution_count": 284,
   "metadata": {},
   "outputs": [
    {
     "data": {
      "text/plain": [
       "[<matplotlib.lines.Line2D at 0x1bf57d3ad68>]"
      ]
     },
     "execution_count": 284,
     "metadata": {},
     "output_type": "execute_result"
    },
    {
     "data": {
      "image/png": "[encoded data removed]",
      "text/plain": [
       "<matplotlib.figure.Figure at 0x1bf57d3a6a0>"
      ]
     },
     "metadata": {},
     "output_type": "display_data"
    }
   ],
   "source": [
    "epochs = range(1,len(acc)+1)\n",
    "\n",
    "plt.plot(epochs,acc)\n",
    "plt.plot(epochs,acc_val)"
   ]
  },
  {
   "cell_type": "code",
   "execution_count": 285,
   "metadata": {},
   "outputs": [
    {
     "name": "stdout",
     "output_type": "stream",
     "text": [
      "Epoch 1/80\n",
      "2666/2666 [==============================] - 0s - loss: 0.1365 - acc: 0.9689     \n",
      "Epoch 2/80\n",
      "2666/2666 [==============================] - 0s - loss: 0.1175 - acc: 0.9696     \n",
      "Epoch 3/80\n",
      "2666/2666 [==============================] - 0s - loss: 0.1079 - acc: 0.9715     \n",
      "Epoch 4/80\n",
      "2666/2666 [==============================] - 0s - loss: 0.1050 - acc: 0.9719     \n",
      "Epoch 5/80\n",
      "2666/2666 [==============================] - 0s - loss: 0.1004 - acc: 0.9730     \n",
      "Epoch 6/80\n",
      "2666/2666 [==============================] - 0s - loss: 0.0930 - acc: 0.9752     \n",
      "Epoch 7/80\n",
      "2666/2666 [==============================] - 0s - loss: 0.0919 - acc: 0.9741     \n",
      "Epoch 8/80\n",
      "2666/2666 [==============================] - 0s - loss: 0.0885 - acc: 0.9752     \n",
      "Epoch 9/80\n",
      "2666/2666 [==============================] - 0s - loss: 0.0874 - acc: 0.9737     \n",
      "Epoch 10/80\n",
      "2666/2666 [==============================] - 0s - loss: 0.0817 - acc: 0.9786     \n",
      "Epoch 11/80\n",
      "2666/2666 [==============================] - 0s - loss: 0.0817 - acc: 0.9752     \n",
      "Epoch 12/80\n",
      "2666/2666 [==============================] - 0s - loss: 0.0794 - acc: 0.9790     \n",
      "Epoch 13/80\n",
      "2666/2666 [==============================] - 0s - loss: 0.0773 - acc: 0.9775     \n",
      "Epoch 14/80\n",
      "2666/2666 [==============================] - 0s - loss: 0.0729 - acc: 0.9779     \n",
      "Epoch 15/80\n",
      "2666/2666 [==============================] - 0s - loss: 0.0694 - acc: 0.9812     \n",
      "Epoch 16/80\n",
      "2666/2666 [==============================] - 0s - loss: 0.0766 - acc: 0.9764     \n",
      "Epoch 17/80\n",
      "2666/2666 [==============================] - 0s - loss: 0.0674 - acc: 0.9812     \n",
      "Epoch 18/80\n",
      "2666/2666 [==============================] - 0s - loss: 0.0672 - acc: 0.9809     \n",
      "Epoch 19/80\n",
      "2666/2666 [==============================] - 0s - loss: 0.0681 - acc: 0.9794     \n",
      "Epoch 20/80\n",
      "2666/2666 [==============================] - 0s - loss: 0.0636 - acc: 0.9831     \n",
      "Epoch 21/80\n",
      "2666/2666 [==============================] - 0s - loss: 0.0619 - acc: 0.9835     \n",
      "Epoch 22/80\n",
      "2666/2666 [==============================] - 0s - loss: 0.0624 - acc: 0.9820     \n",
      "Epoch 23/80\n",
      "2666/2666 [==============================] - 0s - loss: 0.0606 - acc: 0.9827     \n",
      "Epoch 24/80\n",
      "2666/2666 [==============================] - 0s - loss: 0.0645 - acc: 0.9794     \n",
      "Epoch 25/80\n",
      "2666/2666 [==============================] - 0s - loss: 0.0593 - acc: 0.9846     \n",
      "Epoch 26/80\n",
      "2666/2666 [==============================] - 0s - loss: 0.0533 - acc: 0.9880     \n",
      "Epoch 27/80\n",
      "2666/2666 [==============================] - 0s - loss: 0.0561 - acc: 0.9854     \n",
      "Epoch 28/80\n",
      "2666/2666 [==============================] - 0s - loss: 0.0537 - acc: 0.9857     \n",
      "Epoch 29/80\n",
      "2666/2666 [==============================] - 0s - loss: 0.0556 - acc: 0.9850     \n",
      "Epoch 30/80\n",
      "2666/2666 [==============================] - 0s - loss: 0.0512 - acc: 0.9861     \n",
      "Epoch 31/80\n",
      "2666/2666 [==============================] - 0s - loss: 0.0530 - acc: 0.9835     \n",
      "Epoch 32/80\n",
      "2666/2666 [==============================] - 0s - loss: 0.0495 - acc: 0.9869     \n",
      "Epoch 33/80\n",
      "2666/2666 [==============================] - 0s - loss: 0.0522 - acc: 0.9835     \n",
      "Epoch 34/80\n",
      "2666/2666 [==============================] - 0s - loss: 0.0453 - acc: 0.9887     \n",
      "Epoch 35/80\n",
      "2666/2666 [==============================] - 0s - loss: 0.0465 - acc: 0.9880     \n",
      "Epoch 36/80\n",
      "2666/2666 [==============================] - 0s - loss: 0.0431 - acc: 0.9891     \n",
      "Epoch 37/80\n",
      "2666/2666 [==============================] - 0s - loss: 0.0492 - acc: 0.9869     \n",
      "Epoch 38/80\n",
      "2666/2666 [==============================] - 0s - loss: 0.0413 - acc: 0.9906     \n",
      "Epoch 39/80\n",
      "2666/2666 [==============================] - 0s - loss: 0.0422 - acc: 0.9910     \n",
      "Epoch 40/80\n",
      "2666/2666 [==============================] - 0s - loss: 0.0440 - acc: 0.9869     \n",
      "Epoch 41/80\n",
      "2666/2666 [==============================] - 0s - loss: 0.0445 - acc: 0.9880     \n",
      "Epoch 42/80\n",
      "2666/2666 [==============================] - 0s - loss: 0.0376 - acc: 0.9925     \n",
      "Epoch 43/80\n",
      "2666/2666 [==============================] - 0s - loss: 0.0410 - acc: 0.9910     \n",
      "Epoch 44/80\n",
      "2666/2666 [==============================] - 0s - loss: 0.0417 - acc: 0.9906     \n",
      "Epoch 45/80\n",
      "2666/2666 [==============================] - 0s - loss: 0.0359 - acc: 0.9932     \n",
      "Epoch 46/80\n",
      "2666/2666 [==============================] - 0s - loss: 0.0391 - acc: 0.9910     \n",
      "Epoch 47/80\n",
      "2666/2666 [==============================] - 0s - loss: 0.0383 - acc: 0.9925     \n",
      "Epoch 48/80\n",
      "2666/2666 [==============================] - 0s - loss: 0.0333 - acc: 0.9936     \n",
      "Epoch 49/80\n",
      "2666/2666 [==============================] - 0s - loss: 0.0372 - acc: 0.9895     \n",
      "Epoch 50/80\n",
      "2666/2666 [==============================] - 0s - loss: 0.0349 - acc: 0.9944     \n",
      "Epoch 51/80\n",
      "2666/2666 [==============================] - 0s - loss: 0.0329 - acc: 0.9936     \n",
      "Epoch 52/80\n",
      "2666/2666 [==============================] - 0s - loss: 0.0333 - acc: 0.9940     \n",
      "Epoch 53/80\n",
      "2666/2666 [==============================] - 0s - loss: 0.0325 - acc: 0.9936     \n",
      "Epoch 54/80\n",
      "2666/2666 [==============================] - 0s - loss: 0.0325 - acc: 0.9925     \n",
      "Epoch 55/80\n",
      "2666/2666 [==============================] - 0s - loss: 0.0297 - acc: 0.9951     \n",
      "Epoch 56/80\n",
      "2666/2666 [==============================] - 0s - loss: 0.0338 - acc: 0.9925     \n",
      "Epoch 57/80\n",
      "2666/2666 [==============================] - 0s - loss: 0.0289 - acc: 0.9962     \n",
      "Epoch 58/80\n",
      "2666/2666 [==============================] - 0s - loss: 0.0281 - acc: 0.9947     \n",
      "Epoch 59/80\n",
      "2666/2666 [==============================] - 0s - loss: 0.0300 - acc: 0.9955     \n",
      "Epoch 60/80\n",
      "2666/2666 [==============================] - 0s - loss: 0.0255 - acc: 0.9966     \n",
      "Epoch 61/80\n",
      "2666/2666 [==============================] - 0s - loss: 0.0260 - acc: 0.9970     \n",
      "Epoch 62/80\n",
      "2666/2666 [==============================] - 0s - loss: 0.0337 - acc: 0.9925     \n",
      "Epoch 63/80\n",
      "2666/2666 [==============================] - 0s - loss: 0.0239 - acc: 0.9974     \n",
      "Epoch 64/80\n",
      "2666/2666 [==============================] - 0s - loss: 0.0242 - acc: 0.9974     \n",
      "Epoch 65/80\n",
      "2666/2666 [==============================] - 0s - loss: 0.0276 - acc: 0.9966     \n",
      "Epoch 66/80\n",
      "2666/2666 [==============================] - 0s - loss: 0.0256 - acc: 0.9940     \n",
      "Epoch 67/80\n",
      "2666/2666 [==============================] - 0s - loss: 0.0226 - acc: 0.9970     \n",
      "Epoch 68/80\n",
      "2666/2666 [==============================] - 0s - loss: 0.0251 - acc: 0.9955     \n",
      "Epoch 69/80\n",
      "2666/2666 [==============================] - 0s - loss: 0.0263 - acc: 0.9951     \n",
      "Epoch 70/80\n",
      "2666/2666 [==============================] - 0s - loss: 0.0219 - acc: 0.9974     \n",
      "Epoch 71/80\n",
      "2666/2666 [==============================] - 0s - loss: 0.0220 - acc: 0.9981     \n",
      "Epoch 72/80\n",
      "2666/2666 [==============================] - 0s - loss: 0.0239 - acc: 0.9959     \n",
      "Epoch 73/80\n",
      "2666/2666 [==============================] - ETA: 0s - loss: 0.0231 - acc: 1.000 - 0s - loss: 0.0203 - acc: 0.9989     \n",
      "Epoch 74/80\n",
      "2666/2666 [==============================] - 0s - loss: 0.0216 - acc: 0.9970     \n",
      "Epoch 75/80\n",
      "2666/2666 [==============================] - 0s - loss: 0.0202 - acc: 0.9989     \n",
      "Epoch 76/80\n",
      "2666/2666 [==============================] - 0s - loss: 0.0209 - acc: 0.9974     \n",
      "Epoch 77/80\n",
      "2666/2666 [==============================] - 0s - loss: 0.0186 - acc: 0.9985     \n",
      "Epoch 78/80\n",
      "2666/2666 [==============================] - 0s - loss: 0.0207 - acc: 0.9974     \n",
      "Epoch 79/80\n",
      "2666/2666 [==============================] - 0s - loss: 0.0202 - acc: 0.9977     \n",
      "Epoch 80/80\n",
      "2666/2666 [==============================] - 0s - loss: 0.0171 - acc: 0.9974     \n"
     ]
    }
   ],
   "source": [
    "model2.fit(Xtrain,Ytrain,epochs=80,batch_size=200);"
   ]
  },
  {
   "cell_type": "code",
   "execution_count": 286,
   "metadata": {
    "collapsed": true
   },
   "outputs": [],
   "source": [
    "yhat = model.predict(X_test)"
   ]
  },
  {
   "cell_type": "code",
   "execution_count": 287,
   "metadata": {},
   "outputs": [
    {
     "name": "stdout",
     "output_type": "stream",
     "text": [
      "             precision    recall  f1-score   support\n",
      "\n",
      "          0       0.92      0.98      0.95       932\n",
      "          1       0.83      0.55      0.66       168\n",
      "\n",
      "avg / total       0.91      0.91      0.91      1100\n",
      "\n"
     ]
    }
   ],
   "source": [
    "print(classification_report(Y_test,yhat))"
   ]
  },
  {
   "cell_type": "code",
   "execution_count": 288,
   "metadata": {},
   "outputs": [
    {
     "data": {
      "text/plain": [
       "array([[913,  19],\n",
       "       [ 76,  92]], dtype=int64)"
      ]
     },
     "execution_count": 288,
     "metadata": {},
     "output_type": "execute_result"
    }
   ],
   "source": [
    "confusion_matrix(Y_test,yhat)"
   ]
  }
 ],
 "metadata": {
  "kernelspec": {
   "display_name": "Python 3",
   "language": "python",
   "name": "python3"
  },
  "language_info": {
   "codemirror_mode": {
    "name": "ipython",
    "version": 3
   },
   "file_extension": ".py",
   "mimetype": "text/x-python",
   "name": "python",
   "nbconvert_exporter": "python",
   "pygments_lexer": "ipython3",
   "version": "3.6.3"
  }
 },
 "nbformat": 4,
 "nbformat_minor": 2
}
